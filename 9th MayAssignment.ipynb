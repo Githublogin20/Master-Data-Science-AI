{
 "cells": [
  {
   "cell_type": "code",
   "execution_count": 1,
   "id": "befb5233-8c66-4772-b985-3df4720f37b0",
   "metadata": {},
   "outputs": [],
   "source": [
    "str='bk79574abc'\n",
    "or \n",
    "str1=\"abc1234\"\n",
    "\n",
    "list1=[4,\"abc\",3.4,True]\n",
    "\n",
    "float=54.23\n",
    "\n",
    "tuple=(78,\"Banti\",7.5,True)\n",
    "tuple can be with empty value , with int data type , with string data type , it can be with mixed values data type \n",
    "or with nested values data type  . \n"
   ]
  },
  {
   "cell_type": "code",
   "execution_count": 1,
   "id": "68b1cf71-67cb-47f4-a935-315001480476",
   "metadata": {},
   "outputs": [
    {
     "data": {
      "text/plain": [
       "str"
      ]
     },
     "execution_count": 1,
     "metadata": {},
     "output_type": "execute_result"
    }
   ],
   "source": [
    "var1=''\n",
    "type(var1)"
   ]
  },
  {
   "cell_type": "code",
   "execution_count": 2,
   "id": "ab5a7d72-0a14-4e75-a4c3-8e0c7727340e",
   "metadata": {},
   "outputs": [
    {
     "data": {
      "text/plain": [
       "str"
      ]
     },
     "execution_count": 2,
     "metadata": {},
     "output_type": "execute_result"
    }
   ],
   "source": [
    "var2='[DS,ML,Python]'\n",
    "type(var2)"
   ]
  },
  {
   "cell_type": "code",
   "execution_count": 3,
   "id": "54ab9325-54a7-4245-b3f8-7227fd34db4c",
   "metadata": {},
   "outputs": [
    {
     "data": {
      "text/plain": [
       "list"
      ]
     },
     "execution_count": 3,
     "metadata": {},
     "output_type": "execute_result"
    }
   ],
   "source": [
    "var3=['DS','ML','Python']\n",
    "type(var3)"
   ]
  },
  {
   "cell_type": "code",
   "execution_count": 4,
   "id": "1c5ed7d8-88c9-404c-952d-12aeed948c04",
   "metadata": {},
   "outputs": [
    {
     "data": {
      "text/plain": [
       "float"
      ]
     },
     "execution_count": 4,
     "metadata": {},
     "output_type": "execute_result"
    }
   ],
   "source": [
    "var4 = 1.\n",
    "type(var4)"
   ]
  },
  {
   "cell_type": "code",
   "execution_count": 5,
   "id": "f69b2b86-ba43-43f4-8b40-ed9a9ac4996e",
   "metadata": {},
   "outputs": [
    {
     "name": "stdout",
     "output_type": "stream",
     "text": [
      "4.0\n"
     ]
    }
   ],
   "source": [
    "\"\"\" operator uses for Division \n",
    "eg. 40 devide by 10 is equel to 4 \"\"\"\n",
    "var1=40\n",
    "var2=10\n",
    "var3=var1/var2\n",
    "print(var3)"
   ]
  },
  {
   "cell_type": "code",
   "execution_count": 6,
   "id": "d203bc44-f408-4616-ab9b-2acef249d892",
   "metadata": {},
   "outputs": [
    {
     "name": "stdout",
     "output_type": "stream",
     "text": [
      "20\n"
     ]
    }
   ],
   "source": [
    "\"\"\" % operator means Modulus which gives reminder after division\n",
    "eg. 200 devide by 30 then remider would be 20 \"\"\"\n",
    "\n",
    "var1=200\n",
    "var2=30\n",
    "var3=var1%var2\n",
    "print(var3)"
   ]
  },
  {
   "cell_type": "code",
   "execution_count": 7,
   "id": "1803fd3f-a956-4304-a664-fadefae5aa5d",
   "metadata": {},
   "outputs": [
    {
     "name": "stdout",
     "output_type": "stream",
     "text": [
      "12\n"
     ]
    }
   ],
   "source": [
    "\"\"\"operator uses for floor division . Floor division is a division operation that rounds the result \n",
    "down to the nearest number, which is less than or equal to the normal division result.\n",
    "eg. floor division for 25 would be 12\"\"\"\n",
    "\n",
    "var1=25\n",
    "var2=2\n",
    "var3=var1//var2\n",
    "print(var3)"
   ]
  },
  {
   "cell_type": "code",
   "execution_count": 8,
   "id": "b903c879-f83b-42c4-b685-c0fa51f953e2",
   "metadata": {},
   "outputs": [
    {
     "name": "stdout",
     "output_type": "stream",
     "text": [
      "9\n"
     ]
    }
   ],
   "source": [
    "\"\"\" ** operator uses for exponential calculation\n",
    "eg. exponentail of 3 would be 9 \"\"\"\n",
    "\n",
    "var1=3\n",
    "var2=2\n",
    "var3=var1**var2\n",
    "print(var3)"
   ]
  },
  {
   "cell_type": "code",
   "execution_count": 9,
   "id": "090605ea-fc6f-4934-a662-b2f1595bc365",
   "metadata": {},
   "outputs": [
    {
     "name": "stdout",
     "output_type": "stream",
     "text": [
      "3\n",
      "<class 'int'>\n",
      "67.45\n",
      "<class 'float'>\n",
      "Banti\n",
      "<class 'str'>\n",
      "(4+6j)\n",
      "<class 'complex'>\n",
      "True\n",
      "<class 'bool'>\n",
      "76\n",
      "<class 'int'>\n",
      "False\n",
      "<class 'bool'>\n",
      "Kumar\n",
      "<class 'str'>\n",
      "1099\n",
      "<class 'int'>\n",
      "86.5\n",
      "<class 'float'>\n"
     ]
    }
   ],
   "source": [
    "list=[3,67.45,'Banti',4+6j,True,76,False,\"Kumar\",1099,86.5]\n",
    "for i in list:\n",
    "    print(i)\n",
    "    print(type(i))"
   ]
  },
  {
   "cell_type": "code",
   "execution_count": 10,
   "id": "64571461-6925-454d-b791-c2f9a03e916c",
   "metadata": {},
   "outputs": [
    {
     "name": "stdin",
     "output_type": "stream",
     "text": [
      " 100\n",
      " 2\n"
     ]
    },
    {
     "name": "stdout",
     "output_type": "stream",
     "text": [
      "2\n"
     ]
    }
   ],
   "source": [
    "A = int(input())\n",
    "B=int(input())\n",
    "count = 0\n",
    "while A % B != 1:\n",
    "    count = count + 1\n",
    "    A=A/B\n",
    "print(count)"
   ]
  },
  {
   "cell_type": "code",
   "execution_count": 11,
   "id": "0766c1a8-814e-4f81-a5a6-8be9d9edf0b8",
   "metadata": {},
   "outputs": [
    {
     "name": "stdout",
     "output_type": "stream",
     "text": [
      "81\n",
      "3 is divisible by 3\n",
      "5 is not divisible by 3 \n",
      "7 is not divisible by 3 \n",
      "9 is divisible by 3\n",
      "12 is divisible by 3\n",
      "20 is not divisible by 3 \n",
      "25 is not divisible by 3 \n",
      "27 is divisible by 3\n",
      "30 is divisible by 3\n",
      "32 is not divisible by 3 \n",
      "36 is divisible by 3\n",
      "38 is not divisible by 3 \n",
      "40 is not divisible by 3 \n",
      "42 is divisible by 3\n",
      "45 is divisible by 3\n",
      "50 is not divisible by 3 \n",
      "52 is not divisible by 3 \n",
      "55 is not divisible by 3 \n",
      "60 is divisible by 3\n",
      "65 is not divisible by 3 \n",
      "70 is not divisible by 3 \n",
      "72 is divisible by 3\n",
      "75 is divisible by 3\n",
      "78 is divisible by 3\n",
      "81 is divisible by 3\n"
     ]
    }
   ],
   "source": [
    "list=[3,5,7,9,12,20,25,27,30,32,36,38,40,42,45,50,52,55,60,65,70,72,75,78,81]\n",
    "print(list[24])\n",
    "for i in list:\n",
    "    if i%3==0:\n",
    "        print(i,'is divisible by 3')\n",
    "    else:\n",
    "        print(i,'is not divisible by 3 ')"
   ]
  },
  {
   "cell_type": "code",
   "execution_count": 12,
   "id": "5f5efecf-a4f7-4b3e-a24a-a68d72446aa9",
   "metadata": {},
   "outputs": [
    {
     "name": "stdout",
     "output_type": "stream",
     "text": [
      "Banti\n",
      "[3, 67.45, 'Kumar', (4+6j), True, 76, False, 'Kumar', 1099, 86.5]\n",
      "Kumar\n",
      "[3, 67.45, 'Kumar', (4+6j), True, 76, False, 'Banti', 1099, 86.5]\n"
     ]
    }
   ],
   "source": [
    "\"\"\" Mutable Data Type = Mutable data type are those objects which can be replace/modify at a perticular \n",
    "index inside the veriable. \n",
    "eg. List  \"\"\"\n",
    "\n",
    "list1=[3,67.45,'Banti',4+6j,True,76,False,\"Kumar\",1099,86.5]\n",
    "print(list1[2])\n",
    "list1[2]='Kumar'\n",
    "print(list1)\n",
    "print(list1[7])\n",
    "list1[7]='Banti'\n",
    "print(list1)\n"
   ]
  },
  {
   "cell_type": "code",
   "execution_count": 13,
   "id": "bbd10ef2-8d86-417d-86fb-4dd6ec8fb039",
   "metadata": {},
   "outputs": [
    {
     "name": "stdout",
     "output_type": "stream",
     "text": [
      "bantikumar12345\n",
      "n\n"
     ]
    },
    {
     "ename": "TypeError",
     "evalue": "'str' object does not support item assignment",
     "output_type": "error",
     "traceback": [
      "\u001b[0;31m---------------------------------------------------------------------------\u001b[0m",
      "\u001b[0;31mTypeError\u001b[0m                                 Traceback (most recent call last)",
      "Cell \u001b[0;32mIn[13], line 8\u001b[0m\n\u001b[1;32m      6\u001b[0m \u001b[38;5;28mprint\u001b[39m(str1)\n\u001b[1;32m      7\u001b[0m \u001b[38;5;28mprint\u001b[39m(str1[\u001b[38;5;241m2\u001b[39m])\n\u001b[0;32m----> 8\u001b[0m \u001b[43mstr1\u001b[49m\u001b[43m[\u001b[49m\u001b[38;5;241;43m2\u001b[39;49m\u001b[43m]\u001b[49m\u001b[38;5;241m=\u001b[39m\u001b[38;5;241m8\u001b[39m\n\u001b[1;32m      9\u001b[0m \u001b[38;5;28mprint\u001b[39m(str1)\n",
      "\u001b[0;31mTypeError\u001b[0m: 'str' object does not support item assignment"
     ]
    }
   ],
   "source": [
    "\"\"\" Imutable Data Type = Imutable data type are those objects which can not be replace/modify at a perticular\n",
    "index inside the veriable. \n",
    "eg. String  \"\"\"\n",
    "\n",
    "str1='bantikumar12345'\n",
    "print(str1)\n",
    "print(str1[2])\n",
    "str1[2]=8\n",
    "print(str1)"
   ]
  },
  {
   "cell_type": "code",
   "execution_count": null,
   "id": "73ccfb7f-b359-4514-9647-600c1ed17fef",
   "metadata": {},
   "outputs": [],
   "source": []
  }
 ],
 "metadata": {
  "kernelspec": {
   "display_name": "Python 3 (ipykernel)",
   "language": "python",
   "name": "python3"
  },
  "language_info": {
   "codemirror_mode": {
    "name": "ipython",
    "version": 3
   },
   "file_extension": ".py",
   "mimetype": "text/x-python",
   "name": "python",
   "nbconvert_exporter": "python",
   "pygments_lexer": "ipython3",
   "version": "3.10.8"
  }
 },
 "nbformat": 4,
 "nbformat_minor": 5
}
