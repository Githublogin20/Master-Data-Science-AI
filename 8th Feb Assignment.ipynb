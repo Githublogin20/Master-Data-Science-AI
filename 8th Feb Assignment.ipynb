{
 "cells": [
  {
   "cell_type": "code",
   "execution_count": null,
   "id": "3f99cb78-7875-4bcc-b4cf-91aea378c112",
   "metadata": {},
   "outputs": [],
   "source": [
    "#What is Abstraction in OOps? Explain with an example."
   ]
  },
  {
   "cell_type": "code",
   "execution_count": 3,
   "id": "91d3cc99-6c4c-4205-a298-961f2e7981dc",
   "metadata": {},
   "outputs": [
    {
     "data": {
      "text/plain": [
       "'Abstraction is one of the key concepts of OOPs languages. Its main goal is to handle complexity by hiding unnecessary details from the user.'"
      ]
     },
     "execution_count": 3,
     "metadata": {},
     "output_type": "execute_result"
    }
   ],
   "source": [
    "\"Abstraction is one of the key concepts of OOPs languages. Its main goal is to handle complexity by hiding unnecessary details from the user.\""
   ]
  },
  {
   "cell_type": "code",
   "execution_count": 6,
   "id": "474f8b3d-8c8a-4a3d-b8cc-f18110c389f7",
   "metadata": {},
   "outputs": [],
   "source": [
    "import abc\n",
    "class abstruct:    \n",
    "           \n",
    "    @abc.abstractmethod\n",
    "    def abst_func1(self):\n",
    "        pass\n",
    "        \n",
    "    @abc.abstractmethod\n",
    "    def abst_func2(self):\n",
    "        pass\n",
    "    \n",
    "    @abc.abstractmethod\n",
    "    def abst_fucn3(self):\n",
    "        pass"
   ]
  },
  {
   "cell_type": "code",
   "execution_count": 7,
   "id": "0e06ade7-3ee9-490e-be02-46aa9d33bab9",
   "metadata": {},
   "outputs": [],
   "source": [
    "class sub_class1(abstruct):\n",
    "    \n",
    "    def abst_func1(self):\n",
    "        print(\"will invoke abst_func1() method of abstruct class by calling object of sub_class1\")\n",
    "        "
   ]
  },
  {
   "cell_type": "code",
   "execution_count": 8,
   "id": "dfecabf7-4a88-4932-871e-d90fde491c55",
   "metadata": {},
   "outputs": [],
   "source": [
    "class sub_class2(abstruct):\n",
    "    \n",
    "    def abst_func3(self):\n",
    "        print(\"will invoke abst_func3() method of abstruct class by calling object of sub_class2\")"
   ]
  },
  {
   "cell_type": "code",
   "execution_count": 9,
   "id": "6409a205-2a34-4e0a-a42a-79a7046fc7f0",
   "metadata": {},
   "outputs": [],
   "source": [
    "sub_class1_obj=sub_class1()"
   ]
  },
  {
   "cell_type": "code",
   "execution_count": 10,
   "id": "8697d7ff-f7a2-4a7b-9a01-177879990d1a",
   "metadata": {},
   "outputs": [],
   "source": [
    "sub_class2_obj=sub_class2()"
   ]
  },
  {
   "cell_type": "code",
   "execution_count": 12,
   "id": "d9b94180-48e7-45c1-bae0-cd9416934432",
   "metadata": {},
   "outputs": [
    {
     "name": "stdout",
     "output_type": "stream",
     "text": [
      "will invoke abst_func1() method of abstruct class by calling object of sub_class1\n"
     ]
    }
   ],
   "source": [
    "sub_class1_obj.abst_func1()"
   ]
  },
  {
   "cell_type": "code",
   "execution_count": 13,
   "id": "588ea284-7b4f-4b7d-922a-33398624dc90",
   "metadata": {},
   "outputs": [
    {
     "name": "stdout",
     "output_type": "stream",
     "text": [
      "will invoke abst_func3() method of abstruct class by calling object of sub_class2\n"
     ]
    }
   ],
   "source": [
    "sub_class2_obj.abst_func3()"
   ]
  },
  {
   "cell_type": "code",
   "execution_count": null,
   "id": "39cde3d4-90a8-4407-8783-947044bd0e5d",
   "metadata": {},
   "outputs": [],
   "source": [
    "#Differentiate between Abstraction and Encapsulation. Explain with an example."
   ]
  },
  {
   "cell_type": "code",
   "execution_count": 20,
   "id": "fc72c0fa-ee5d-41b0-83c5-babab4c2e677",
   "metadata": {},
   "outputs": [
    {
     "data": {
      "text/plain": [
       "'Abstraction is one of the key concepts of OOPs languages. Its main goal is to handle complexity by hiding unnecessary details from the user.\\ninstead of creating the instance of your abstract class here, you are creating an instance of an anonymous subclass of your abstract class. And then you are invoking the method on your abstract class reference pointing to subclass object'"
      ]
     },
     "execution_count": 20,
     "metadata": {},
     "output_type": "execute_result"
    }
   ],
   "source": [
    "\"\"\"Abstraction is one of the key concepts of OOPs languages. Its main goal is to handle complexity by hiding unnecessary details from the user.\n",
    "instead of creating the instance of your abstract class here, you are creating an instance of an anonymous subclass of your abstract class. And then you are invoking the method on your abstract class reference pointing to subclass object\"\"\""
   ]
  },
  {
   "cell_type": "code",
   "execution_count": 18,
   "id": "1cc75c42-7eef-4808-b7fa-3f556f6202af",
   "metadata": {},
   "outputs": [
    {
     "data": {
      "text/plain": [
       "'in encapsulation, the variables or data of a class is hidden from any other class and can be accessed only through any member function of its own class in which they are declared. As in encapsulation, the data in a class is hidden from other classes, so it is also known as data-hiding. Encapsulation can be achieved by Declaring all the variables in the class as private and writing public methods in the class to set and get the values of variables.'"
      ]
     },
     "execution_count": 18,
     "metadata": {},
     "output_type": "execute_result"
    }
   ],
   "source": [
    "\"\"\"in encapsulation, the variables or data of a class is hidden from any other class and can be accessed only through any member function of its own class in which they are declared. As in encapsulation, the data in a class is hidden from other classes, so it is also known as data-hiding. Encapsulation can be achieved by Declaring all the variables in the class as private and writing public methods in the class to set and get the values of variables.\"\"\""
   ]
  },
  {
   "cell_type": "code",
   "execution_count": 30,
   "id": "d62684bd-7682-4b1e-9c6a-e03927176716",
   "metadata": {},
   "outputs": [],
   "source": [
    "#abstruction example \n",
    "\n",
    "import abc\n",
    "class abst_exmp:\n",
    "    \n",
    "    @abc.abstractmethod\n",
    "    def abst_exmp_func(self):\n",
    "        pass"
   ]
  },
  {
   "cell_type": "code",
   "execution_count": 31,
   "id": "d680a754-ada1-4d46-ab17-c3742c899130",
   "metadata": {},
   "outputs": [],
   "source": [
    "class abst_exmp_subclass(abst_exmp):\n",
    "    \n",
    "    def abst_exmp_func(self,a,b):\n",
    "        self.c=a+b\n",
    "        return  self.c        "
   ]
  },
  {
   "cell_type": "code",
   "execution_count": 33,
   "id": "bbe94ad5-6cbd-4045-af15-8d973107ca08",
   "metadata": {},
   "outputs": [],
   "source": [
    "abst_exmp_subclass_obj=abst_exmp_subclass()"
   ]
  },
  {
   "cell_type": "code",
   "execution_count": 34,
   "id": "1addc7a2-931a-4d45-9c47-dc600ce7c3eb",
   "metadata": {},
   "outputs": [
    {
     "data": {
      "text/plain": [
       "123"
      ]
     },
     "execution_count": 34,
     "metadata": {},
     "output_type": "execute_result"
    }
   ],
   "source": [
    "abst_exmp_subclass_obj.abst_exmp_func(89,34)"
   ]
  },
  {
   "cell_type": "code",
   "execution_count": 96,
   "id": "569f01c0-e943-4a69-b705-9a811e0a16b4",
   "metadata": {},
   "outputs": [],
   "source": [
    "#Encapsulation example \n",
    "\n",
    "class encapsulation:\n",
    "     \n",
    "    def __init__(self):\n",
    "        self.__name=\"banti\"\n",
    "                \n",
    "    def set_marks(self,marks):\n",
    "        self.__marks=marks\n",
    "    \n",
    "    def get_division(self):\n",
    "        if self.__marks >75:\n",
    "            return print(self.__name,\"..will be eligible to get pwskills data science certificate\")\n",
    "            \n",
    "        elif self.__marks <= 60:\n",
    "            return print(self.__name,\"..will not be eligible to get pwskills data science certificate\")\n",
    "           "
   ]
  },
  {
   "cell_type": "code",
   "execution_count": 110,
   "id": "82f620cb-e8d8-4890-a75e-ed8ce9cca917",
   "metadata": {},
   "outputs": [],
   "source": [
    "encapsulation_obj=encapsulation()"
   ]
  },
  {
   "cell_type": "code",
   "execution_count": 111,
   "id": "316220d4-2cf9-4a83-8579-cf57d2e422e4",
   "metadata": {},
   "outputs": [],
   "source": [
    "encapsulation_obj.__name=\"sudh\" # will not change variable because its private"
   ]
  },
  {
   "cell_type": "code",
   "execution_count": 112,
   "id": "e379d3af-06f4-41cc-8e6e-b158624ca8e1",
   "metadata": {},
   "outputs": [],
   "source": [
    "encapsulation_obj.set_marks(90)"
   ]
  },
  {
   "cell_type": "code",
   "execution_count": 113,
   "id": "00851592-dda0-4219-bcf1-2f517d58f27d",
   "metadata": {},
   "outputs": [
    {
     "name": "stdout",
     "output_type": "stream",
     "text": [
      "banti ..will be eligible to get pwskills data science certificate\n"
     ]
    }
   ],
   "source": [
    "encapsulation_obj.get_division()"
   ]
  },
  {
   "cell_type": "code",
   "execution_count": 117,
   "id": "5774674e-14d8-4eac-b372-55c78b2c7157",
   "metadata": {},
   "outputs": [],
   "source": [
    "encapsulation_obj.set_marks(44)"
   ]
  },
  {
   "cell_type": "code",
   "execution_count": 118,
   "id": "bd66d1c1-b030-42fe-913a-ebe7e116ad88",
   "metadata": {},
   "outputs": [
    {
     "name": "stdout",
     "output_type": "stream",
     "text": [
      "banti ..will not be eligible to get pwskills data science certificate\n"
     ]
    }
   ],
   "source": [
    "encapsulation_obj.get_division()"
   ]
  },
  {
   "cell_type": "code",
   "execution_count": null,
   "id": "7e8d1c46-28ce-4040-9e05-f5323d45d1ba",
   "metadata": {},
   "outputs": [],
   "source": [
    "#What is abc module in python? Why is it used?"
   ]
  },
  {
   "cell_type": "code",
   "execution_count": 122,
   "id": "32b6e487-4e16-4033-91c7-70a6eda099f3",
   "metadata": {},
   "outputs": [
    {
     "data": {
      "text/plain": [
       "' abc (abstract base class) module in the Python library offers the necessary tools for creating an abstract base class.'"
      ]
     },
     "execution_count": 122,
     "metadata": {},
     "output_type": "execute_result"
    }
   ],
   "source": [
    "\" abc (abstract base class) module in the Python library offers the necessary tools for creating an abstract base class.\""
   ]
  },
  {
   "cell_type": "code",
   "execution_count": null,
   "id": "387d3635-30f4-4ff6-be4c-80ce4afdbdb3",
   "metadata": {},
   "outputs": [],
   "source": [
    "#How can we achieve data abstraction?"
   ]
  },
  {
   "cell_type": "code",
   "execution_count": 128,
   "id": "b76d70c9-03d6-4c75-ac86-f7752ea3f73c",
   "metadata": {},
   "outputs": [
    {
     "data": {
      "text/plain": [
       "'abstraction is achieved by using the abstract keyword for class.In abstract classes, we can have abstract methods '"
      ]
     },
     "execution_count": 128,
     "metadata": {},
     "output_type": "execute_result"
    }
   ],
   "source": [
    "\"abstraction is achieved by using the abstract keyword for class.In abstract classes, we can have abstract methods \""
   ]
  },
  {
   "cell_type": "code",
   "execution_count": 130,
   "id": "3fd11d8c-de9c-4d7a-b735-c80c7e66880d",
   "metadata": {},
   "outputs": [],
   "source": [
    "#example \n",
    "\n",
    "import abc\n",
    "class abstruct_class:\n",
    "    \n",
    "    @abc.abstractmethod\n",
    "    def abst_func(self):\n",
    "        pass"
   ]
  },
  {
   "cell_type": "code",
   "execution_count": null,
   "id": "76269c03-9f24-4bbb-a6e1-c9815da8574c",
   "metadata": {},
   "outputs": [],
   "source": [
    "#Can we create an instance of an abstract class? Explain your answer"
   ]
  },
  {
   "cell_type": "code",
   "execution_count": 124,
   "id": "49c75fd0-bb52-491a-a414-efc592d2393e",
   "metadata": {},
   "outputs": [
    {
     "data": {
      "text/plain": [
       "'No, we are not creating the instance of your abstract class here. you are creating an instance of an anonymous subclass of your abstract class. And then you are invoking the method on your abstract class reference pointing to subclass object.'"
      ]
     },
     "execution_count": 124,
     "metadata": {},
     "output_type": "execute_result"
    }
   ],
   "source": [
    "\"\"\"No, we are not creating the instance of your abstract class here. you are creating an instance of an anonymous subclass of your abstract class. And then you are invoking the method on your abstract class reference pointing to subclass object.\"\"\""
   ]
  },
  {
   "cell_type": "code",
   "execution_count": null,
   "id": "f61ca649-674e-4a1f-bb72-01ebf93bedf8",
   "metadata": {},
   "outputs": [],
   "source": []
  }
 ],
 "metadata": {
  "kernelspec": {
   "display_name": "Python 3 (ipykernel)",
   "language": "python",
   "name": "python3"
  },
  "language_info": {
   "codemirror_mode": {
    "name": "ipython",
    "version": 3
   },
   "file_extension": ".py",
   "mimetype": "text/x-python",
   "name": "python",
   "nbconvert_exporter": "python",
   "pygments_lexer": "ipython3",
   "version": "3.10.8"
  }
 },
 "nbformat": 4,
 "nbformat_minor": 5
}
