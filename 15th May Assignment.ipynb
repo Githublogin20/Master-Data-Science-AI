{
 "cells": [
  {
   "cell_type": "code",
   "execution_count": 1,
   "id": "cefb55e5-3cf9-4592-a8c2-debc81218373",
   "metadata": {},
   "outputs": [],
   "source": [
    "# Hi we are writting the pyhton program and this statement  represents the comment in python "
   ]
  },
  {
   "cell_type": "code",
   "execution_count": 2,
   "id": "8f2f33db-d891-44e0-bb78-51ad0a84d66e",
   "metadata": {},
   "outputs": [],
   "source": [
    "## this is the 2nd way we can comment the line "
   ]
  },
  {
   "cell_type": "code",
   "execution_count": null,
   "id": "f8831be9-ef0e-4289-9ddd-a8d5238243cd",
   "metadata": {},
   "outputs": [],
   "source": [
    "\"\"\"this is the 3rd way we can comment the line,\n",
    "if we have multiple line in the paragraph \"\"\""
   ]
  },
  {
   "cell_type": "code",
   "execution_count": 4,
   "id": "8770529f-10e3-4157-bcef-28476a01d349",
   "metadata": {},
   "outputs": [],
   "source": [
    "#this is the 4th way we can comment the line,\n",
    "#if we have multiple line in the paragraph \"\"\"\n",
    "#same paragraph can be comment like this "
   ]
  },
  {
   "cell_type": "code",
   "execution_count": null,
   "id": "671675cb-0cd9-40d3-8221-09aaf93ae867",
   "metadata": {},
   "outputs": [],
   "source": [
    "\"\"\"variables are the data types in python . We have different type of data types/variable in python'\n",
    "# eg. int , str,float,boolean ,complex , list , tuple, set etc.\n",
    "\n",
    "Python has no command for declaring a variable. A variable is created the moment you first assign a \n",
    "value to it. \"\n",
    "so instead of int i =9  you can write i = 9 all in one go.\n",
    "\n",
    "The = symbol is known as the assignment operator. \n",
    "\n",
    "some examples are given below how to declare and assign the values to variables\"\"\""
   ]
  },
  {
   "cell_type": "code",
   "execution_count": 7,
   "id": "5138fd80-fb1e-4052-bcf8-1a03a10bdc06",
   "metadata": {},
   "outputs": [
    {
     "data": {
      "text/plain": [
       "int"
      ]
     },
     "execution_count": 7,
     "metadata": {},
     "output_type": "execute_result"
    }
   ],
   "source": [
    "var1=65\n",
    "type(var1)"
   ]
  },
  {
   "cell_type": "code",
   "execution_count": 8,
   "id": "ef288355-5e2c-4a9b-b824-789d5f429c0f",
   "metadata": {},
   "outputs": [
    {
     "data": {
      "text/plain": [
       "list"
      ]
     },
     "execution_count": 8,
     "metadata": {},
     "output_type": "execute_result"
    }
   ],
   "source": [
    "var2=[3,6.5,True,'banti',3+4j,[6,4.6,'kumar']]\n",
    "type(var2)"
   ]
  },
  {
   "cell_type": "code",
   "execution_count": 9,
   "id": "d43a3058-8ef6-4bd9-8465-46448e1342f9",
   "metadata": {},
   "outputs": [
    {
     "data": {
      "text/plain": [
       "set"
      ]
     },
     "execution_count": 9,
     "metadata": {},
     "output_type": "execute_result"
    }
   ],
   "source": [
    "var3={3,6.5,True,'banti',3+4j,(89,67.5,'kumar')}\n",
    "type(var3)"
   ]
  },
  {
   "cell_type": "code",
   "execution_count": 15,
   "id": "6cd4365f-d299-4134-b3e1-c2d8bba0c642",
   "metadata": {},
   "outputs": [
    {
     "data": {
      "text/plain": [
       "tuple"
      ]
     },
     "execution_count": 15,
     "metadata": {},
     "output_type": "execute_result"
    }
   ],
   "source": [
    "var4=(3,6.5,True,'banti',3+4j,[6,4.6,'kumar'])\n",
    "type(var4)"
   ]
  },
  {
   "cell_type": "code",
   "execution_count": null,
   "id": "86819e9b-05f8-4c22-aa7c-f714a47d37a9",
   "metadata": {},
   "outputs": [],
   "source": [
    "#conversion of one data type to other data type .some examples are given below for the conversion "
   ]
  },
  {
   "cell_type": "code",
   "execution_count": 26,
   "id": "23684e0c-3411-4b4b-90a7-5d965fd78351",
   "metadata": {},
   "outputs": [
    {
     "data": {
      "text/plain": [
       "str"
      ]
     },
     "execution_count": 26,
     "metadata": {},
     "output_type": "execute_result"
    }
   ],
   "source": [
    "num1=76\n",
    "num2=str(num1)\n",
    "type(num2)"
   ]
  },
  {
   "cell_type": "code",
   "execution_count": 22,
   "id": "0e84b28a-da87-432e-a27d-1d1c2aaed72a",
   "metadata": {},
   "outputs": [
    {
     "name": "stdout",
     "output_type": "stream",
     "text": [
      "('kumar', 67, 889, 98.76, 'banti')\n"
     ]
    }
   ],
   "source": [
    "num3=[\"kumar\",67,889,98.76,'banti']\n",
    "num4=tuple(num3)\n",
    "print(num4)"
   ]
  },
  {
   "cell_type": "code",
   "execution_count": 27,
   "id": "ee37aaed-5636-4d5c-a28d-aa78f9e32417",
   "metadata": {},
   "outputs": [
    {
     "name": "stdout",
     "output_type": "stream",
     "text": [
      "{'kumar', 67, 98.76, 'banti', 889}\n"
     ]
    }
   ],
   "source": [
    "num3=[\"kumar\",67,889,98.76,'banti']\n",
    "num5=set(num3)\n",
    "print(num5)"
   ]
  },
  {
   "cell_type": "code",
   "execution_count": null,
   "id": "6653d43e-5a34-4a2e-9a3d-5630b4d728ba",
   "metadata": {},
   "outputs": [],
   "source": [
    "#in order to run a Python script command line .... \n",
    "\"\"\"You need to open a command line and type the word python followed by the path to your \n",
    "script file like this: python first_script.py Then you hit the ENTER button \n",
    "from the keyboard, and that's it.\"\"\""
   ]
  },
  {
   "cell_type": "code",
   "execution_count": 28,
   "id": "52b037a8-f11c-44ca-aca5-24c4b0527e48",
   "metadata": {},
   "outputs": [
    {
     "name": "stdout",
     "output_type": "stream",
     "text": [
      "[2, 3]\n"
     ]
    }
   ],
   "source": [
    "my_list = [1, 2, 3, 4, 5]\n",
    "sub_list=my_list[1:3]\n",
    "print(sub_list)"
   ]
  },
  {
   "cell_type": "code",
   "execution_count": 29,
   "id": "80c4bb86-4719-4d27-ac9b-1a06b1273c31",
   "metadata": {},
   "outputs": [
    {
     "data": {
      "text/plain": [
       "complex"
      ]
     },
     "execution_count": 29,
     "metadata": {},
     "output_type": "execute_result"
    }
   ],
   "source": [
    "#complex number in mathmatics is the combination of real and imaginary number \n",
    "#eg. 5+7j\n",
    "\"\"\"Here 5 and 7 are real numbers and j is the imaginary number \"\"\"\n",
    "# represenation for complex number in python \n",
    "\n",
    "var=5+6j\n",
    "type(var)"
   ]
  },
  {
   "cell_type": "code",
   "execution_count": 30,
   "id": "048a2b51-e813-4387-89b4-5bcad5a7812d",
   "metadata": {},
   "outputs": [
    {
     "name": "stdout",
     "output_type": "stream",
     "text": [
      "25\n"
     ]
    }
   ],
   "source": [
    "var1=25\n",
    "age=var1\n",
    "print(age)"
   ]
  },
  {
   "cell_type": "code",
   "execution_count": 31,
   "id": "ae70eef7-b812-4ce1-a39c-4ba49f819eee",
   "metadata": {},
   "outputs": [
    {
     "name": "stdout",
     "output_type": "stream",
     "text": [
      "9.99\n"
     ]
    },
    {
     "data": {
      "text/plain": [
       "float"
      ]
     },
     "execution_count": 31,
     "metadata": {},
     "output_type": "execute_result"
    }
   ],
   "source": [
    "var1=9.99\n",
    "price=var1\n",
    "print(price)\n",
    "type(price)"
   ]
  },
  {
   "cell_type": "code",
   "execution_count": 32,
   "id": "733ccb24-e323-4e4c-aea5-148bcab2bcdd",
   "metadata": {},
   "outputs": [
    {
     "name": "stdout",
     "output_type": "stream",
     "text": [
      "Banti Kumar\n"
     ]
    }
   ],
   "source": [
    "var1='Banti Kumar'\n",
    "name=str(var1)\n",
    "print(name)"
   ]
  },
  {
   "cell_type": "code",
   "execution_count": 36,
   "id": "5d6c5447-c934-4c08-aca4-590d8e97749c",
   "metadata": {},
   "outputs": [
    {
     "name": "stdout",
     "output_type": "stream",
     "text": [
      "7\n",
      "11\n"
     ]
    },
    {
     "data": {
      "text/plain": [
       "'World'"
      ]
     },
     "execution_count": 36,
     "metadata": {},
     "output_type": "execute_result"
    }
   ],
   "source": [
    "str=\"Hello, World!\"\n",
    "print(str.index('W'))\n",
    "print(str.index('d'))\n",
    "str[7:12]"
   ]
  },
  {
   "cell_type": "code",
   "execution_count": 38,
   "id": "14433f73-a62d-4a2e-bf6a-97b3eeb6cd06",
   "metadata": {},
   "outputs": [
    {
     "name": "stdout",
     "output_type": "stream",
     "text": [
      "i am not a student currently\n"
     ]
    }
   ],
   "source": [
    "is_student=False\n",
    "if is_student==True:\n",
    "    print(\"i am a student\")\n",
    "if is_student==False:\n",
    "    print(\"i am not a student currently\")"
   ]
  },
  {
   "cell_type": "code",
   "execution_count": null,
   "id": "6c618532-9861-466e-a123-c1bbffe1c68a",
   "metadata": {},
   "outputs": [],
   "source": []
  }
 ],
 "metadata": {
  "kernelspec": {
   "display_name": "Python 3 (ipykernel)",
   "language": "python",
   "name": "python3"
  },
  "language_info": {
   "codemirror_mode": {
    "name": "ipython",
    "version": 3
   },
   "file_extension": ".py",
   "mimetype": "text/x-python",
   "name": "python",
   "nbconvert_exporter": "python",
   "pygments_lexer": "ipython3",
   "version": "3.10.8"
  }
 },
 "nbformat": 4,
 "nbformat_minor": 5
}
