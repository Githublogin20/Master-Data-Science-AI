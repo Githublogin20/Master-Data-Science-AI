{
 "cells": [
  {
   "cell_type": "code",
   "execution_count": null,
   "id": "150b64b2-058c-48d9-872a-729e62319c4a",
   "metadata": {},
   "outputs": [],
   "source": [
    "#Q1. What is a database? Differentiate between SQL and NoSQL databases"
   ]
  },
  {
   "cell_type": "code",
   "execution_count": 12,
   "id": "3e10f682-f715-461c-b2af-84811972f808",
   "metadata": {},
   "outputs": [
    {
     "data": {
      "text/plain": [
       "'A database is an organized collection of data, so that it can be easily accessed and managed.\\nYou can organize data into tables, rows, columns, and index it to make it easier to find relevant information.'"
      ]
     },
     "execution_count": 12,
     "metadata": {},
     "output_type": "execute_result"
    }
   ],
   "source": [
    "\"\"\"A database is an organized collection of data, so that it can be easily accessed and managed.\n",
    "You can organize data into tables, rows, columns, and index it to make it easier to find relevant information.\"\"\""
   ]
  },
  {
   "cell_type": "code",
   "execution_count": 11,
   "id": "31b3b310-6f8e-4992-bd37-aa93895de6f9",
   "metadata": {},
   "outputs": [
    {
     "data": {
      "text/plain": [
       "'SQL is a programming language used by nearly all relational databases to query, manipulate, and define data, and to provide access control , in SQL data is typically modeled in rows and columns in a series of tables to make processing and data querying efficient.  while A NoSQL, or nonrelational database, allows unstructured and semistructured data to be stored and manipulated NoSQL databases grew popular as web applications became more common and more complex.'"
      ]
     },
     "execution_count": 11,
     "metadata": {},
     "output_type": "execute_result"
    }
   ],
   "source": [
    "\"\"\"SQL is a programming language used by nearly all relational databases to query, manipulate, and define data, and to provide access control , in SQL data is typically modeled in rows and columns in a series of tables to make processing and data querying efficient.  while A NoSQL, or nonrelational database, allows unstructured and semistructured data to be stored and manipulated NoSQL databases grew popular as web applications became more common and more complex.\"\"\""
   ]
  },
  {
   "cell_type": "code",
   "execution_count": null,
   "id": "c5de26b0-7a20-4d77-8af2-ccd716a166fe",
   "metadata": {},
   "outputs": [],
   "source": [
    "#Q2. What is DDL? Explain why CREATE, DROP, ALTER, and TRUNCATE are used with an example."
   ]
  },
  {
   "cell_type": "code",
   "execution_count": 13,
   "id": "7219d540-c71b-4727-8ea6-2e241344e31c",
   "metadata": {},
   "outputs": [
    {
     "data": {
      "text/plain": [
       "'Data Definition Language (DDL) - The Data Definition Language is the sublanguage responsible for defining the way data is structured in a database. In SQL, this corresponds to manipulating tables through the CREATE TABLE, ALTER TABLE, and DROP TABLE'"
      ]
     },
     "execution_count": 13,
     "metadata": {},
     "output_type": "execute_result"
    }
   ],
   "source": [
    "\"\"\"Data Definition Language (DDL) - The Data Definition Language is the sublanguage responsible for defining the way data is structured in a database. In SQL, this corresponds to manipulating tables through the CREATE TABLE, ALTER TABLE, and DROP TABLE\"\"\""
   ]
  },
  {
   "cell_type": "code",
   "execution_count": null,
   "id": "0eb5922c-22fc-434e-b02a-6b48f2348b02",
   "metadata": {},
   "outputs": [],
   "source": [
    "Create − It is used to create a new table or a new database.\n",
    "eg. create table emp_details(emp_id INT, emp_name varchar(30),emp_designation varchar(30));\n",
    "\n",
    "Alter − It is used to alter or change the structure of the database table.\n",
    "eg. alter table emp_details ADD emp_joining_date DATETIME;\n",
    "\n",
    "Drop − It is used to delete a table, index, or views from the database.\n",
    "eg. drop table emp_details;\n",
    "\n",
    "Truncate − It is used to delete the records or data from the table, but its structure remains as it is.\n",
    "eg. truncate table emp_details;"
   ]
  },
  {
   "cell_type": "code",
   "execution_count": null,
   "id": "4535d295-a740-4d75-852e-79364f5f144f",
   "metadata": {},
   "outputs": [],
   "source": [
    "#Q3. What is DML? Explain INSERT, UPDATE, and DELETE with an example"
   ]
  },
  {
   "cell_type": "code",
   "execution_count": 9,
   "id": "f10d552f-8711-4aeb-8172-5ad41c1247de",
   "metadata": {},
   "outputs": [
    {
     "data": {
      "text/plain": [
       "'Data Manipulation Language (DML) - The Data Manipulation Language is the sublanguage responsible for adding, editing or deleting data from a database. In SQL, this corresponds to the INSERT, UPDATE, and DELETE'"
      ]
     },
     "execution_count": 9,
     "metadata": {},
     "output_type": "execute_result"
    }
   ],
   "source": [
    "\"\"\"Data Manipulation Language (DML) - The Data Manipulation Language is the sublanguage responsible for adding, editing or deleting data from a database. In SQL, this corresponds to the INSERT, UPDATE, and DELETE\"\"\""
   ]
  },
  {
   "cell_type": "code",
   "execution_count": null,
   "id": "9d6f4a83-c6d5-45cb-9efc-ff599254a183",
   "metadata": {},
   "outputs": [],
   "source": [
    "The INSERT statement introduces new rows into an existing table.\n",
    "eg. INSERT INTO tableName(column1,column2,column3……..) VALUES(value1,value2,value3……) ;\n",
    "\n",
    "The DELETE statement removes a row or combination of rows from a table.\n",
    "eg. DELETE FROM table_name WHERE condition;\n",
    "\n",
    "The UPDATE statement enables users to update a row or group of rows in a table.\n",
    "eg. UPDATE tableName SET column1 = value1, column2 = value2,... where condition;"
   ]
  },
  {
   "cell_type": "code",
   "execution_count": null,
   "id": "e35d58eb-f060-4923-a127-9ee23baa7e92",
   "metadata": {},
   "outputs": [],
   "source": [
    "#Q4. What is DQL? Explain SELECT with an example."
   ]
  },
  {
   "cell_type": "code",
   "execution_count": 8,
   "id": "8f98ba82-9177-415c-9a82-3448458d0b4f",
   "metadata": {},
   "outputs": [
    {
     "data": {
      "text/plain": [
       "'Data Query Language (DQL) - The Data Query Language is the sublanguage responsible for reading, or querying, data from a database. In SQL, this corresponds to the SELECT'"
      ]
     },
     "execution_count": 8,
     "metadata": {},
     "output_type": "execute_result"
    }
   ],
   "source": [
    "\"\"\"Data Query Language (DQL) - The Data Query Language is the sublanguage responsible for reading, or querying, data from a database. In SQL, this corresponds to the SELECT\"\"\""
   ]
  },
  {
   "cell_type": "code",
   "execution_count": null,
   "id": "83286177-516b-426d-9874-17c6bf3e6912",
   "metadata": {},
   "outputs": [],
   "source": [
    "Select is used to get a data from the table based on the conditions written the sql query . \n",
    "eg. select * from tablename where condition1..condition2.."
   ]
  },
  {
   "cell_type": "code",
   "execution_count": null,
   "id": "228f0ab3-a463-463c-b81c-0b924368aa2a",
   "metadata": {},
   "outputs": [],
   "source": [
    "#Q5. Explain Primary Key and Foreign Key"
   ]
  },
  {
   "cell_type": "code",
   "execution_count": 14,
   "id": "7daf7034-4c08-4206-924b-820e32350eeb",
   "metadata": {},
   "outputs": [
    {
     "data": {
      "text/plain": [
       "'A primary key generally focuses on the uniqueness of the table. It assures the value in the specific column is unique. A foreign key is generally used to build a relationship between the two tables. The table allows only one primary key.'"
      ]
     },
     "execution_count": 14,
     "metadata": {},
     "output_type": "execute_result"
    }
   ],
   "source": [
    "\"\"\"A primary key generally focuses on the uniqueness of the table. It assures the value in the specific column is unique. A foreign key is generally used to build a relationship between the two tables. The table allows only one primary key.\"\"\""
   ]
  },
  {
   "cell_type": "code",
   "execution_count": null,
   "id": "6b2be839-fd1a-417d-8e0d-09c5d0843cf8",
   "metadata": {},
   "outputs": [],
   "source": [
    "#Q6. Write a python code to connect MySQL to python. Explain the cursor() and execute() method"
   ]
  },
  {
   "cell_type": "code",
   "execution_count": null,
   "id": "f0b744ac-7d28-43fd-b3a1-597562debc9f",
   "metadata": {},
   "outputs": [],
   "source": [
    "import mysql.connector\n",
    "mydb = mysql.connector.connect(\n",
    "  host=\"localhost\",\n",
    "  user=\"abc\",\n",
    "  password=\"password\"\n",
    ")\n",
    "print(mydb)\n",
    "mycursor = mydb.cursor()\n",
    "mycursor.execute(\"select * from mydatabase.table_test\")\n",
    "for i in mycursor.fetchall():\n",
    "    print(i)\n",
    "mydb.close()"
   ]
  },
  {
   "cell_type": "code",
   "execution_count": 16,
   "id": "c41b4ba3-2e63-4a2c-a7c8-48bf267b7cb7",
   "metadata": {},
   "outputs": [
    {
     "data": {
      "text/plain": [
       "'A cursor is an object which helps to execute the query and fetch the records from the database. The cursor plays a very important role in executing the query.'"
      ]
     },
     "execution_count": 16,
     "metadata": {},
     "output_type": "execute_result"
    }
   ],
   "source": [
    "\"\"\"A cursor is an object which helps to execute the query and fetch the records from the database. The cursor plays a very important role in executing the query.\"\"\""
   ]
  },
  {
   "cell_type": "code",
   "execution_count": 18,
   "id": "00947d02-4741-475a-952e-a05ec1a57f84",
   "metadata": {},
   "outputs": [
    {
     "data": {
      "text/plain": [
       "'The execute() method: This method is used to execute SQL statements'"
      ]
     },
     "execution_count": 18,
     "metadata": {},
     "output_type": "execute_result"
    }
   ],
   "source": [
    "\"\"\"The execute() method: This method is used to execute SQL statements\"\"\""
   ]
  },
  {
   "cell_type": "code",
   "execution_count": null,
   "id": "92025637-d1b2-4dec-add1-f70f8a3613bf",
   "metadata": {},
   "outputs": [],
   "source": [
    "#Q7. Give the order of execution of SQL clauses in an SQL query."
   ]
  },
  {
   "cell_type": "code",
   "execution_count": null,
   "id": "fc90458a-2119-4b85-b00c-246004989c18",
   "metadata": {},
   "outputs": [],
   "source": [
    "Order\tClause\tFunction\n",
    "1\tFROM\tTables are joined to get the base data.\n",
    "2\tWHERE\tThe base data is filtered.\n",
    "3\tGROUP BY\tThe filtered base data is grouped.\n",
    "4\tHAVING\tThe grouped base data is filtered.\n",
    "5\tSELECT\tThe final data is returned.\n",
    "6\tORDER BY\tThe final data is sorted.\n",
    "7\tLIMIT\tThe returned data is limited to row count."
   ]
  }
 ],
 "metadata": {
  "kernelspec": {
   "display_name": "Python 3 (ipykernel)",
   "language": "python",
   "name": "python3"
  },
  "language_info": {
   "codemirror_mode": {
    "name": "ipython",
    "version": 3
   },
   "file_extension": ".py",
   "mimetype": "text/x-python",
   "name": "python",
   "nbconvert_exporter": "python",
   "pygments_lexer": "ipython3",
   "version": "3.10.8"
  }
 },
 "nbformat": 4,
 "nbformat_minor": 5
}
