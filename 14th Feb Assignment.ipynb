{
 "cells": [
  {
   "cell_type": "code",
   "execution_count": 3,
   "id": "f345d703-8690-4bad-8b28-3eba484dbb44",
   "metadata": {},
   "outputs": [],
   "source": [
    "#Q1. what is multithreading in python? why is it used? Name the module used to handle threads in python"
   ]
  },
  {
   "cell_type": "code",
   "execution_count": 4,
   "id": "b30f89b9-6f9d-4a48-a7bf-9c6bde3e1cca",
   "metadata": {},
   "outputs": [
    {
     "data": {
      "text/plain": [
       "'Multithreading is a function of the CPU that permits multiple threads to run independently while sharing the same process resources.'"
      ]
     },
     "execution_count": 4,
     "metadata": {},
     "output_type": "execute_result"
    }
   ],
   "source": [
    "\"\"\"Multithreading is a function or utility of the CPU that permits multiple threads to run independently while sharing the same process resources.\"\"\""
   ]
  },
  {
   "cell_type": "code",
   "execution_count": 6,
   "id": "a1bec7b7-30a6-4b6a-908a-db7b077c3a16",
   "metadata": {},
   "outputs": [
    {
     "data": {
      "text/plain": [
       "'Multithreading allows many threads of a program to run simultaneously. Multithreading increases CPU utilization through multitasking and increase the perfomace of the program and CPU/Core process'"
      ]
     },
     "execution_count": 6,
     "metadata": {},
     "output_type": "execute_result"
    }
   ],
   "source": [
    "\"\"\"Multithreading allows many threads of a program to run simultaneously. Multithreading increases CPU utilization through multitasking and increase the perfomace of the program and CPU/Core process\"\"\""
   ]
  },
  {
   "cell_type": "code",
   "execution_count": 7,
   "id": "19b0dcc8-724a-4b40-bed0-6e09036b8b61",
   "metadata": {},
   "outputs": [
    {
     "data": {
      "text/plain": [
       "'threading module is used to create, controll and handle threads in python'"
      ]
     },
     "execution_count": 7,
     "metadata": {},
     "output_type": "execute_result"
    }
   ],
   "source": [
    "\"\"\"threading module is used to create, controll and handle threads in python\"\"\""
   ]
  },
  {
   "cell_type": "code",
   "execution_count": null,
   "id": "14095ee8-751a-4323-b810-b9fa248bfa90",
   "metadata": {},
   "outputs": [],
   "source": [
    "# Q2 why threading module used? write the use of the following functions\n",
    "\"\"\"\n",
    "1.activeCount()\n",
    "2.currentThread()\n",
    "3. enumerate()\"\"\""
   ]
  },
  {
   "cell_type": "code",
   "execution_count": 17,
   "id": "d8b78d9d-c8d0-40e6-85ce-04c3ba664ea6",
   "metadata": {},
   "outputs": [
    {
     "data": {
      "text/plain": [
       "'threading module is used to increase the core/CPU utilization through multitasking and in crease the performance of the program '"
      ]
     },
     "execution_count": 17,
     "metadata": {},
     "output_type": "execute_result"
    }
   ],
   "source": [
    "\"\"\"threading module is used to increase the core/CPU utilization through multitasking and in crease the performance of the program \"\"\""
   ]
  },
  {
   "cell_type": "code",
   "execution_count": 14,
   "id": "4cb204c8-6a3c-416c-be0b-1bd568c3c2dd",
   "metadata": {},
   "outputs": [
    {
     "data": {
      "text/plain": [
       "'threading.activeCount() − is an inbuilt method of the threading module,it Returns the number of thread objects that are active.'"
      ]
     },
     "execution_count": 14,
     "metadata": {},
     "output_type": "execute_result"
    }
   ],
   "source": [
    "\"threading.activeCount() − is an inbuilt method of the threading module,it Returns the number of thread objects that are active.\"\n"
   ]
  },
  {
   "cell_type": "code",
   "execution_count": 19,
   "id": "88895b86-e4cf-4231-9884-ec312fc72927",
   "metadata": {},
   "outputs": [
    {
     "data": {
      "text/plain": [
       "'threading.currentThread() − method of thread class is used to return a reference to the currently executing thread object.'"
      ]
     },
     "execution_count": 19,
     "metadata": {},
     "output_type": "execute_result"
    }
   ],
   "source": [
    "\"threading.currentThread() − method of thread class is used to return a reference to the currently executing thread object.\"\n"
   ]
  },
  {
   "cell_type": "code",
   "execution_count": 16,
   "id": "6e51a16c-a32c-4493-b35c-c5de49db93c9",
   "metadata": {},
   "outputs": [
    {
     "data": {
      "text/plain": [
       "'threading.enumerate() − is an inbuilt method of the threading module,it Returns a list of all thread objects that are currently active.'"
      ]
     },
     "execution_count": 16,
     "metadata": {},
     "output_type": "execute_result"
    }
   ],
   "source": [
    "\"threading.enumerate() − is an inbuilt method of the threading module,it Returns a list of all thread objects that are currently active.\"\n"
   ]
  },
  {
   "cell_type": "code",
   "execution_count": 20,
   "id": "47d2e231-0b6a-48be-9e11-45c1969b9165",
   "metadata": {},
   "outputs": [],
   "source": [
    "#Q3 .Explain the following functions\u001d"
   ]
  },
  {
   "cell_type": "code",
   "execution_count": 21,
   "id": "ac8aa5cc-9ac8-455a-a609-5d240b22e411",
   "metadata": {},
   "outputs": [
    {
     "data": {
      "text/plain": [
       "'run() − The run() method is the entry point for a thread.'"
      ]
     },
     "execution_count": 21,
     "metadata": {},
     "output_type": "execute_result"
    }
   ],
   "source": [
    "\"run() − The run() method is the entry point for a thread.\""
   ]
  },
  {
   "cell_type": "code",
   "execution_count": 22,
   "id": "c4f9ee11-b053-4cfe-add3-9151fa63521e",
   "metadata": {},
   "outputs": [
    {
     "data": {
      "text/plain": [
       "'start() − The start() method starts a thread by calling the run method.'"
      ]
     },
     "execution_count": 22,
     "metadata": {},
     "output_type": "execute_result"
    }
   ],
   "source": [
    "\"start() − The start() method starts a thread by calling the run method.\""
   ]
  },
  {
   "cell_type": "code",
   "execution_count": 23,
   "id": "6875858b-318e-4088-ad28-b1e8b712dd98",
   "metadata": {},
   "outputs": [
    {
     "data": {
      "text/plain": [
       "'join() − The join() waits for threads to terminate.'"
      ]
     },
     "execution_count": 23,
     "metadata": {},
     "output_type": "execute_result"
    }
   ],
   "source": [
    "\"join() − The join() waits for threads to terminate.\""
   ]
  },
  {
   "cell_type": "code",
   "execution_count": 24,
   "id": "83c3f82d-d665-405b-bfe0-537dec00a226",
   "metadata": {},
   "outputs": [
    {
     "data": {
      "text/plain": [
       "'isAlive() − The isAlive() method checks whether a thread is still executing.'"
      ]
     },
     "execution_count": 24,
     "metadata": {},
     "output_type": "execute_result"
    }
   ],
   "source": [
    "\"isAlive() − The isAlive() method checks whether a thread is still executing.\""
   ]
  },
  {
   "cell_type": "code",
   "execution_count": 25,
   "id": "29c9a0ac-5f3d-42d5-99ca-a53456f99e71",
   "metadata": {},
   "outputs": [],
   "source": [
    "#Q4. write a python program to create two threads. Thread one must print the list of squares and thread two must print the list of cubes\u0019"
   ]
  },
  {
   "cell_type": "code",
   "execution_count": 218,
   "id": "7d282648-e00d-44d3-841e-5a767a8cfbdc",
   "metadata": {},
   "outputs": [],
   "source": [
    "import threading\n",
    "import time"
   ]
  },
  {
   "cell_type": "code",
   "execution_count": 229,
   "id": "d23da961-d2fa-4e22-ac44-3abc6440e152",
   "metadata": {},
   "outputs": [],
   "source": [
    "def calc_square():\n",
    "    for i in range(1,10):\n",
    "        list_sq=[]\n",
    "        list_sq.append(i**2)\n",
    "        print(list_sq)\n",
    "        time.sleep(1)\n",
    "\n",
    "def calc_cube():\n",
    "    for j in range(1,10):\n",
    "        list_qb=[]\n",
    "        list_qb.append(j**3)\n",
    "        print(list_qb)\n",
    "        time.sleep(1)"
   ]
  },
  {
   "cell_type": "code",
   "execution_count": 230,
   "id": "062c630a-1653-4426-a709-75bad4d259f0",
   "metadata": {},
   "outputs": [
    {
     "name": "stdout",
     "output_type": "stream",
     "text": [
      "[1]\n",
      "[1]\n",
      "[4][8]\n",
      "\n",
      "[9]\n",
      "[27]\n",
      "[16]\n",
      "[64]\n",
      "[25]\n",
      "[125]\n",
      "[36]\n",
      "[216]\n",
      "[49]\n",
      "[343]\n",
      "[64]\n",
      "[512]\n",
      "[81]\n",
      "[729]\n"
     ]
    }
   ],
   "source": [
    "square_thread = threading.Thread(target=calc_square)\n",
    "cube_thread = threading.Thread(target=calc_cube)\n",
    "\n",
    "square_thread.start()\n",
    "cube_thread.start()\n"
   ]
  },
  {
   "cell_type": "code",
   "execution_count": 198,
   "id": "2a5bdf9a-db10-4005-9240-d116464bb4b5",
   "metadata": {},
   "outputs": [],
   "source": [
    "#Q5 State advantages and disadvantages of multithreading"
   ]
  },
  {
   "cell_type": "code",
   "execution_count": 80,
   "id": "0cfacf5e-1066-42d2-9f03-6b5c8ed519f1",
   "metadata": {},
   "outputs": [
    {
     "data": {
      "text/plain": [
       "'Advantage : \\nEnhanced performance by decreased development time\\nSimplified and streamlined program coding\\nImprovised GUI responsiveness\\nSimultaneous and parallelized occurrence of tasks\\nBetter use of cache storage by utilization of resources\\nDecreased cost of maintenance\\nBetter use of CPU resource'"
      ]
     },
     "execution_count": 80,
     "metadata": {},
     "output_type": "execute_result"
    }
   ],
   "source": [
    "\"\"\"Advantage : \n",
    "Enhanced performance by decreased development time\n",
    "Simplified and streamlined program coding\n",
    "Improvised GUI responsiveness\n",
    "Simultaneous and parallelized occurrence of tasks\n",
    "Better use of cache storage by utilization of resources\n",
    "Decreased cost of maintenance\n",
    "Better use of CPU resource\"\"\""
   ]
  },
  {
   "cell_type": "code",
   "execution_count": 13,
   "id": "dfcbc60c-b6c7-41f0-b4da-609ee83de9d9",
   "metadata": {},
   "outputs": [
    {
     "data": {
      "text/plain": [
       "'Disadvantage:\\nComplex debugging and testing processes\\nOverhead switching of context\\nIncreased potential for deadlock occurrence\\nIncreased difficulty level in writing a program\\nUnpredictable results'"
      ]
     },
     "execution_count": 13,
     "metadata": {},
     "output_type": "execute_result"
    }
   ],
   "source": [
    "\"\"\"Disadvantage:\n",
    "Complex debugging and testing processes\n",
    "Overhead switching of context\n",
    "Increased potential for deadlock occurrence\n",
    "Increased difficulty level in writing a program\n",
    "Unpredictable results\"\"\""
   ]
  },
  {
   "cell_type": "code",
   "execution_count": null,
   "id": "671e396c-0de0-4750-aafd-e55b484a6da1",
   "metadata": {},
   "outputs": [],
   "source": [
    "#Q6 Explain deadlocks and race conditions"
   ]
  },
  {
   "cell_type": "code",
   "execution_count": 14,
   "id": "5c6a51b1-1402-4697-8066-516016cef844",
   "metadata": {},
   "outputs": [
    {
     "data": {
      "text/plain": [
       "'A race condition occurs when two threads use the same variable at a given time. Deadlock exists when two threads seek one lock simultaneously. This situation will stop both threads from processing or executing the functions.'"
      ]
     },
     "execution_count": 14,
     "metadata": {},
     "output_type": "execute_result"
    }
   ],
   "source": [
    "\"\"\"A race condition occurs when two threads use the same variable at a given time. Deadlock exists when two threads seek one lock simultaneously. This situation will stop both threads from processing or executing the functions.\"\"\""
   ]
  },
  {
   "cell_type": "code",
   "execution_count": null,
   "id": "cb22dbcc-2600-4632-ab76-6947574665cd",
   "metadata": {},
   "outputs": [],
   "source": []
  }
 ],
 "metadata": {
  "kernelspec": {
   "display_name": "Python 3 (ipykernel)",
   "language": "python",
   "name": "python3"
  },
  "language_info": {
   "codemirror_mode": {
    "name": "ipython",
    "version": 3
   },
   "file_extension": ".py",
   "mimetype": "text/x-python",
   "name": "python",
   "nbconvert_exporter": "python",
   "pygments_lexer": "ipython3",
   "version": "3.10.8"
  }
 },
 "nbformat": 4,
 "nbformat_minor": 5
}
