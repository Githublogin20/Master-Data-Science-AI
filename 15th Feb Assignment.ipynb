{
 "cells": [
  {
   "cell_type": "code",
   "execution_count": 1,
   "id": "d183dcd4-b100-44cf-a980-3f036f5413be",
   "metadata": {},
   "outputs": [],
   "source": [
    "# What is multiprocessing in python? Why is it useful?"
   ]
  },
  {
   "cell_type": "code",
   "execution_count": 2,
   "id": "f26beead-e751-47bb-b4ff-a0dd25942681",
   "metadata": {},
   "outputs": [
    {
     "data": {
      "text/plain": [
       "'Multiprocessing in Python is a built-in package that allows the system to run multiple processes simultaneously. It will enable the breaking of applications into smaller threads that can run independently.'"
      ]
     },
     "execution_count": 2,
     "metadata": {},
     "output_type": "execute_result"
    }
   ],
   "source": [
    "\"\"\"Multiprocessing in Python is a built-in package that allows the system to run multiple processes simultaneously. It will enable the breaking of applications into smaller threads that can run independently.\"\"\""
   ]
  },
  {
   "cell_type": "code",
   "execution_count": 4,
   "id": "7b04e851-a658-4c1f-9f51-768446c9ea41",
   "metadata": {},
   "outputs": [
    {
     "data": {
      "text/plain": [
       "'Multiprocessing is useful to compute heavy tasks since it will benefit from having multiple processors, similar to how multicore computers work faster than computers with a single core.'"
      ]
     },
     "execution_count": 4,
     "metadata": {},
     "output_type": "execute_result"
    }
   ],
   "source": [
    "\"\"\"Multiprocessing is useful to compute heavy tasks since it will benefit from having multiple processors, similar to how multicore computers work faster than computers with a single core.\"\"\""
   ]
  },
  {
   "cell_type": "code",
   "execution_count": 5,
   "id": "31031220-bd9f-45b0-9a1e-53cf8fc6323b",
   "metadata": {},
   "outputs": [],
   "source": [
    "#Q2. What are the differences between multiprocessing and multithreading?"
   ]
  },
  {
   "cell_type": "code",
   "execution_count": 8,
   "id": "651b2b40-92a3-4cb2-a349-ca89aa29a7e0",
   "metadata": {},
   "outputs": [
    {
     "data": {
      "text/plain": [
       "'the major difference between multitasking and multithreading is that multitasking allows the CPU of computer to perform multiple tasks simultaneously, while multithreading allows the CPU to execute multiple threads of the same process simultaneously.'"
      ]
     },
     "execution_count": 8,
     "metadata": {},
     "output_type": "execute_result"
    }
   ],
   "source": [
    "\"\"\"the major difference between multitasking and multithreading is that multitasking allows the CPU of computer to perform multiple tasks simultaneously, while multithreading allows the CPU to execute multiple threads of the same process simultaneously.\"\"\""
   ]
  },
  {
   "cell_type": "code",
   "execution_count": 10,
   "id": "dc047ed9-d2fe-439e-ac3a-1068a47bb46c",
   "metadata": {},
   "outputs": [],
   "source": [
    "#Q3. Write a python code to create a process using the multiprocessing module"
   ]
  },
  {
   "cell_type": "code",
   "execution_count": 11,
   "id": "9d22e82c-120c-4ab1-a51d-6d9c660b0b94",
   "metadata": {},
   "outputs": [],
   "source": [
    "import multiprocessing"
   ]
  },
  {
   "cell_type": "code",
   "execution_count": 20,
   "id": "82fa2350-8342-4e4c-b9d7-0e4c4de1b57a",
   "metadata": {},
   "outputs": [
    {
     "name": "stdout",
     "output_type": "stream",
     "text": [
      "4\n",
      "98\n",
      "\n",
      "16\n",
      "2725\n",
      "\n",
      "6436\n",
      "\n",
      "12549\n",
      "\n",
      "216\n",
      "343\n"
     ]
    }
   ],
   "source": [
    "num=[2,3,4,5,6,7]\n",
    "def multi_fun_sq(num):\n",
    "    for i in num:\n",
    "        print(i**2)\n",
    "    \n",
    "def multi_fun_qb(num):\n",
    "    for j in num:\n",
    "        print(j**3) \n",
    "\n",
    "if __name__=='__main__':\n",
    "    mp1=multiprocessing.Process(target=multi_fun_sq, args=(num,))\n",
    "    mp2=multiprocessing.Process(target=multi_fun_qb, args=(num,))\n",
    "    mp1.start()\n",
    "    mp2.start()\n",
    "    mp1.join()\n",
    "    mp2.join()\n",
    "    \n",
    "    "
   ]
  },
  {
   "cell_type": "code",
   "execution_count": 21,
   "id": "fd9ca0aa-d448-47ad-becc-5f438b4996c0",
   "metadata": {},
   "outputs": [],
   "source": [
    "#Q4. What is a multiprocessing pool in python? Why is it used?"
   ]
  },
  {
   "cell_type": "code",
   "execution_count": 23,
   "id": "08fc4fc7-d68e-4c52-b7a7-ec5efc03b3ef",
   "metadata": {},
   "outputs": [
    {
     "data": {
      "text/plain": [
       "'Multiprocessing pool creates multiple Python processes in the background and spreads out your computations for you across multiple CPU cores so that they all happen in parallel without you needing to do anything.'"
      ]
     },
     "execution_count": 23,
     "metadata": {},
     "output_type": "execute_result"
    }
   ],
   "source": [
    "\"\"\"Multiprocessing pool creates multiple Python processes in the background and spreads out your computations for you across multiple CPU cores so that they all happen in parallel without you needing to do anything.\"\"\""
   ]
  },
  {
   "cell_type": "code",
   "execution_count": 24,
   "id": "92bd878b-54d2-439f-8c47-9222a45adb3a",
   "metadata": {},
   "outputs": [
    {
     "data": {
      "text/plain": [
       "'multiprocessing pool is used when you need to execute tasks that may or may not take arguments and may or may not return a result once the tasks are complete. '"
      ]
     },
     "execution_count": 24,
     "metadata": {},
     "output_type": "execute_result"
    }
   ],
   "source": [
    "\"\"\"multiprocessing pool is used when you need to execute tasks that may or may not take arguments and may or may not return a result once the tasks are complete. \"\"\""
   ]
  },
  {
   "cell_type": "code",
   "execution_count": 25,
   "id": "227c96d0-2059-4f3c-a63a-8bb546f3277d",
   "metadata": {},
   "outputs": [],
   "source": [
    "#Q5. How can we create a pool of worker processes in python using the multiprocessing module?"
   ]
  },
  {
   "cell_type": "code",
   "execution_count": 26,
   "id": "3ae6dc06-4ae9-4a61-a15a-be3047409028",
   "metadata": {},
   "outputs": [],
   "source": [
    "import multiprocessing"
   ]
  },
  {
   "cell_type": "code",
   "execution_count": 18,
   "id": "613e2c1e-56ad-4331-9cb9-d2b7a00d3955",
   "metadata": {},
   "outputs": [
    {
     "name": "stdout",
     "output_type": "stream",
     "text": [
      "<multiprocessing.pool.Pool state=RUN pool_size=60>\n"
     ]
    }
   ],
   "source": [
    "# SuperFastPython.com\n",
    "# example of configuring the number of worker processes\n",
    "from multiprocessing.pool import Pool\n",
    " \n",
    "# protect the entry point\n",
    "if __name__ == '__main__':\n",
    "    # create a process pool with many workers\n",
    "    with Pool(60) as pool:\n",
    "        # report the status of the pool\n",
    "        print(pool)\n",
    "        "
   ]
  },
  {
   "cell_type": "code",
   "execution_count": 39,
   "id": "429d3bf8-3fcb-4ae4-8567-602903ba54d7",
   "metadata": {},
   "outputs": [],
   "source": [
    "#6. Write a python program to create 4 processes, each process should print a different number using the multiprocessing module in python."
   ]
  },
  {
   "cell_type": "code",
   "execution_count": 13,
   "id": "a4bdb24e-0c8a-4ded-aa65-55ca452a8e52",
   "metadata": {},
   "outputs": [
    {
     "name": "stdout",
     "output_type": "stream",
     "text": [
      "[5, 7, 6, 5, 7, 7, 6, 6, 10]\n"
     ]
    }
   ],
   "source": [
    "import multiprocessing\n",
    "import time\n",
    "def sq_fun(n):\n",
    "    return n+2\n",
    "\n",
    "if __name__=='__main__':\n",
    "    with multiprocessing.Pool(processes=4) as pool:\n",
    "        output=pool.map(sq_fun,[3,5,4,3,5,5,4,4,8])\n",
    "        time.sleep(2)\n",
    "        print(output)\n",
    "        "
   ]
  },
  {
   "cell_type": "code",
   "execution_count": null,
   "id": "8bb79538-d6b8-4ff5-ae8f-41abb6ab5d7f",
   "metadata": {},
   "outputs": [],
   "source": []
  }
 ],
 "metadata": {
  "kernelspec": {
   "display_name": "Python 3 (ipykernel)",
   "language": "python",
   "name": "python3"
  },
  "language_info": {
   "codemirror_mode": {
    "name": "ipython",
    "version": 3
   },
   "file_extension": ".py",
   "mimetype": "text/x-python",
   "name": "python",
   "nbconvert_exporter": "python",
   "pygments_lexer": "ipython3",
   "version": "3.10.8"
  }
 },
 "nbformat": 4,
 "nbformat_minor": 5
}
