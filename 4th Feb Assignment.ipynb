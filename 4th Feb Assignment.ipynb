{
 "cells": [
  {
   "cell_type": "code",
   "execution_count": null,
   "id": "33da13e2-f009-4271-a66a-cff6a5ce4a9f",
   "metadata": {},
   "outputs": [],
   "source": [
    "\"\"\"Create a python program to sort the given list of tuples based on integer value using a \n",
    "lambda function.\n",
    "[('Sachin Tendulkar', 34357), ('Ricky Ponting', 27483), ('Jack Kallis', 25534), ('Virat Kohli', 24936)]\"\"\""
   ]
  },
  {
   "cell_type": "code",
   "execution_count": 1,
   "id": "8becb7f0-6f70-4b5e-b0a5-2be81c8c2df3",
   "metadata": {},
   "outputs": [
    {
     "name": "stdout",
     "output_type": "stream",
     "text": [
      "[('Virat Kohli', 24936), ('Jack Kallis', 25534), ('Ricky Ponting', 27483), ('Sachin Tendulkar', 34357)]\n"
     ]
    }
   ],
   "source": [
    "short_list=[('Sachin Tendulkar', 34357), ('Ricky Ponting', 27483), ('Jack Kallis', 25534), ('Virat Kohli', 24936)]\n",
    "short_list.sort(key = lambda x: x[1])\n",
    "print(short_list)"
   ]
  },
  {
   "cell_type": "code",
   "execution_count": null,
   "id": "685c738e-3c6d-4c16-a696-34ae6d6ae29b",
   "metadata": {},
   "outputs": [],
   "source": [
    "\"\"\"Write a Python Program to find the squares of all the numbers in the given list of integers using \n",
    "lambda and map functions.\n",
    "[1, 2, 3, 4, 5, 6, 7, 8, 9, 10]\"\"\""
   ]
  },
  {
   "cell_type": "code",
   "execution_count": 2,
   "id": "b4c79159-c189-4f8c-b7c0-18d1df879b4c",
   "metadata": {},
   "outputs": [
    {
     "data": {
      "text/plain": [
       "[1, 4, 9, 16, 25, 36, 49, 64, 81, 100]"
      ]
     },
     "execution_count": 2,
     "metadata": {},
     "output_type": "execute_result"
    }
   ],
   "source": [
    "list1=[1, 2, 3, 4, 5, 6, 7, 8, 9, 10]\n",
    "list(map(lambda x: x**2,list1))"
   ]
  },
  {
   "cell_type": "code",
   "execution_count": null,
   "id": "57515bc0-eb56-4396-a5c7-47424f1ca1c0",
   "metadata": {},
   "outputs": [],
   "source": [
    "\"\"\"Write a python program to convert the given list of integers into a tuple of strings. Use map and \n",
    "lambda functions\n",
    "Given String: [1, 2, 3, 4, 5, 6, 7, 8, 9, 10]\n",
    "Expected output: ('1', '2', '3', '4', '5', '6', '7', '8', '9', '10')\"\""
   ]
  },
  {
   "cell_type": "code",
   "execution_count": 7,
   "id": "b0ed58bf-e0ed-4bdb-b2c6-4ddf2185de53",
   "metadata": {},
   "outputs": [
    {
     "name": "stdout",
     "output_type": "stream",
     "text": [
      "('1', '2', '3', '4', '5', '6', '7', '8', '9', '10')\n"
     ]
    }
   ],
   "source": [
    "given_list=[1, 2, 3, 4, 5, 6, 7, 8, 9, 10]\n",
    "map(lambda str:str,given_list)\n",
    "print(tuple(map(str,given_list)))\n"
   ]
  },
  {
   "cell_type": "code",
   "execution_count": null,
   "id": "5a2f126f-b1d6-482f-abb4-271ac94bf33d",
   "metadata": {},
   "outputs": [],
   "source": [
    "\"\"\" Write a python program using reduce function to compute the product of a list containing numbers \n",
    "from 1 to 25.\"\"\""
   ]
  },
  {
   "cell_type": "code",
   "execution_count": 8,
   "id": "9d86d0e7-9afe-4da4-a2fd-87805d806b47",
   "metadata": {},
   "outputs": [],
   "source": [
    "from functools import reduce"
   ]
  },
  {
   "cell_type": "code",
   "execution_count": 9,
   "id": "778724e0-79df-44bd-97f6-4b8ebcaf488a",
   "metadata": {},
   "outputs": [
    {
     "name": "stdout",
     "output_type": "stream",
     "text": [
      "15511210043330985984000000\n"
     ]
    }
   ],
   "source": [
    "num=[1,2,3,4,5,6,7,8,9,10,11,12,13,14,15,16,17,18,19,20,21,22,23,24,25]\n",
    "product=reduce(lambda x,y:x*y,num)\n",
    "print(product)"
   ]
  },
  {
   "cell_type": "code",
   "execution_count": null,
   "id": "c735bcfe-6e7b-44ad-ad99-002c9f8e4353",
   "metadata": {},
   "outputs": [],
   "source": [
    "\"\"\"Write a python program to filter the numbers in a given list that are divisible by 2 and 3 using the \n",
    "filter function.\n",
    "[2, 3, 6, 9, 27, 60, 90, 120, 55, 46]\"\"\""
   ]
  },
  {
   "cell_type": "code",
   "execution_count": 11,
   "id": "3ffbe11e-7c96-4ee3-9141-d71c1215a571",
   "metadata": {},
   "outputs": [
    {
     "name": "stdout",
     "output_type": "stream",
     "text": [
      "number is divisible by 2 [2, 6, 60, 90, 120, 46]\n",
      "number is divisible by 3 [3, 6, 9, 27, 60, 90, 120]\n"
     ]
    }
   ],
   "source": [
    "list_div=[2, 3, 6, 9, 27, 60, 90, 120, 55, 46]\n",
    "list_fin1=list(filter(lambda x: (x%2==0), list_div))\n",
    "print(\"number is divisible by 2\",list_fin1)\n",
    "list_fin2=list(filter(lambda x: (x%3==0), list_div))\n",
    "print(\"number is divisible by 3\",list_fin2)"
   ]
  },
  {
   "cell_type": "code",
   "execution_count": null,
   "id": "35bed5e9-a4eb-41d8-ac60-63ef1f8330b2",
   "metadata": {},
   "outputs": [],
   "source": [
    "\"\"\"Write a python program to find palindromes in the given list of strings using lambda and filter \n",
    "function.\n",
    "['python', 'php', 'aba', 'radar', 'level']\"\"\""
   ]
  },
  {
   "cell_type": "code",
   "execution_count": 16,
   "id": "4a899606-072a-4db6-ae17-87b20ef6c097",
   "metadata": {},
   "outputs": [
    {
     "name": "stdout",
     "output_type": "stream",
     "text": [
      "\n",
      "List of palindromes: ['php', 'aba', 'radar', 'level']\n"
     ]
    }
   ],
   "source": [
    "list_pali=['python', 'php', 'aba', 'radar', 'level']\n",
    "result = list(filter(lambda x: (x == \"\".join(reversed(x))), list_pali)) \n",
    "print(\"\\nList of palindromes:\",result)\n"
   ]
  },
  {
   "cell_type": "code",
   "execution_count": null,
   "id": "bef02802-d708-470e-9286-de9d328ebda0",
   "metadata": {},
   "outputs": [],
   "source": []
  }
 ],
 "metadata": {
  "kernelspec": {
   "display_name": "Python 3 (ipykernel)",
   "language": "python",
   "name": "python3"
  },
  "language_info": {
   "codemirror_mode": {
    "name": "ipython",
    "version": 3
   },
   "file_extension": ".py",
   "mimetype": "text/x-python",
   "name": "python",
   "nbconvert_exporter": "python",
   "pygments_lexer": "ipython3",
   "version": "3.10.8"
  }
 },
 "nbformat": 4,
 "nbformat_minor": 5
}
