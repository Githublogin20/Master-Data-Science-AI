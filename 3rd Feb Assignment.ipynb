{
 "cells": [
  {
   "cell_type": "code",
   "execution_count": 23,
   "id": "589540ae-b4a8-4616-a06c-78936500b3c7",
   "metadata": {},
   "outputs": [
    {
     "data": {
      "text/plain": [
       "'def keyword is used to create a function'"
      ]
     },
     "execution_count": 23,
     "metadata": {},
     "output_type": "execute_result"
    }
   ],
   "source": [
    "\"\"\"Which keyword is used to create a function? Create a function to return a list of odd numbers in the \n",
    "range of 1 to 25.\"\"\"\n",
    "\n",
    "\"def keyword is used to create a function\"\n",
    "#eg.1"
   ]
  },
  {
   "cell_type": "code",
   "execution_count": 7,
   "id": "6fd38473-05df-453f-bbe1-eb71f887ac79",
   "metadata": {},
   "outputs": [],
   "source": [
    "def func1():\n",
    "    return \"This is my first function and i am returing it first time \""
   ]
  },
  {
   "cell_type": "code",
   "execution_count": 8,
   "id": "a007e4b8-a463-495e-b4de-449989d8ccd9",
   "metadata": {},
   "outputs": [
    {
     "data": {
      "text/plain": [
       "'This is my first function and i am returing it first time '"
      ]
     },
     "execution_count": 8,
     "metadata": {},
     "output_type": "execute_result"
    }
   ],
   "source": [
    "func1()"
   ]
  },
  {
   "cell_type": "code",
   "execution_count": 31,
   "id": "2ac85479-d9f4-4b22-89ab-0eef695c177f",
   "metadata": {},
   "outputs": [],
   "source": [
    "def func_odd(n):\n",
    "    lst_odd=[]\n",
    "    for i in range(n):    \n",
    "        if i%2!=0:\n",
    "            lst_odd.append(i)\n",
    "    print(lst_odd)"
   ]
  },
  {
   "cell_type": "code",
   "execution_count": 32,
   "id": "fd887e58-b655-4606-85a5-5e0b743c1007",
   "metadata": {},
   "outputs": [
    {
     "name": "stdout",
     "output_type": "stream",
     "text": [
      "[1, 3, 5, 7, 9, 11, 13, 15, 17, 19, 21, 23]\n"
     ]
    }
   ],
   "source": [
    "func_odd(25)"
   ]
  },
  {
   "cell_type": "code",
   "execution_count": 89,
   "id": "0a4f30ed-efeb-48c1-b1fc-33a76071bbf2",
   "metadata": {},
   "outputs": [
    {
     "data": {
      "text/plain": [
       "'*args is used to enter dynamic value inside the funtion . whatever parameter/values you will enter in the funtion all will return if we use *args'"
      ]
     },
     "execution_count": 89,
     "metadata": {},
     "output_type": "execute_result"
    }
   ],
   "source": [
    "\"\"\"Why *args and **kwargs is used in some functions? Create a function each for *args and **kwargs \n",
    "to demonstrate their use.\"\"\"\n",
    "\n",
    "\"*args is used to enter dynamic value inside the funtion . whatever parameter/values you will enter in the funtion all will return if we use *args\"\n",
    "#eg."
   ]
  },
  {
   "cell_type": "code",
   "execution_count": 75,
   "id": "a30f0611-a01f-44aa-9d1c-a319120eb53a",
   "metadata": {},
   "outputs": [],
   "source": [
    "def func4(*args):\n",
    "    return args"
   ]
  },
  {
   "cell_type": "code",
   "execution_count": 76,
   "id": "158ea6b3-bfc9-4d30-8f60-4e57a4e7fd70",
   "metadata": {},
   "outputs": [
    {
     "data": {
      "text/plain": [
       "(4, 5, [76, 87], 'kumar')"
      ]
     },
     "execution_count": 76,
     "metadata": {},
     "output_type": "execute_result"
    }
   ],
   "source": [
    "func4(4,5,[76,87],\"kumar\")"
   ]
  },
  {
   "cell_type": "code",
   "execution_count": 77,
   "id": "a3872cef-a0ea-4e54-8e75-80d41f639674",
   "metadata": {},
   "outputs": [
    {
     "data": {
      "text/plain": [
       "'**kwargs is used to get key values pair inside the funtion . whatever value you will assign to the key ,correspondence value will be return to that key .'"
      ]
     },
     "execution_count": 77,
     "metadata": {},
     "output_type": "execute_result"
    }
   ],
   "source": [
    "\"**kwargs is used to get key values pair inside the funtion . whatever value you will assign to the key ,correspondence value will be return to that key .\"\n",
    "#eg."
   ]
  },
  {
   "cell_type": "code",
   "execution_count": 86,
   "id": "fa197dc5-4313-41d6-94c1-4faaaa6220bb",
   "metadata": {},
   "outputs": [],
   "source": [
    "def func5(**kwargs):\n",
    "    return kwargs"
   ]
  },
  {
   "cell_type": "code",
   "execution_count": 87,
   "id": "d3e9f1b3-6177-4c27-8d91-7653ee5d8452",
   "metadata": {},
   "outputs": [
    {
     "data": {
      "text/plain": [
       "{'a': [2, 3, 4], 'b': 'kumar', 'c': 65}"
      ]
     },
     "execution_count": 87,
     "metadata": {},
     "output_type": "execute_result"
    }
   ],
   "source": [
    "func5(a=[2,3,4],b=\"kumar\",c=65)"
   ]
  },
  {
   "cell_type": "code",
   "execution_count": null,
   "id": "dd1bf392-6395-4d07-a152-0c5097b244ec",
   "metadata": {},
   "outputs": [],
   "source": [
    "\"\"\"What is an iterator in python? Name the method used to initialise the iterator object and the method \n",
    "used for iteration. Use these methods to print the first five elements of the given list [2, 4, 6, 8, 10, 12, 14, \n",
    "16, 18, 20].\"\"\""
   ]
  },
  {
   "cell_type": "code",
   "execution_count": 98,
   "id": "b87e0b2d-371b-4eeb-a980-79566b420067",
   "metadata": {},
   "outputs": [
    {
     "data": {
      "text/plain": [
       "'an iterator is an object that allows you to iterate over collections of data, such as lists, tuples, dictionaries, and sets'"
      ]
     },
     "execution_count": 98,
     "metadata": {},
     "output_type": "execute_result"
    }
   ],
   "source": [
    "\"an iterator is an object that allows you to iterate over collections of data, such as lists, tuples, dictionaries, and sets\""
   ]
  },
  {
   "cell_type": "code",
   "execution_count": 100,
   "id": "8f479ced-4dd1-4d5b-9da0-235f5ef6e8e4",
   "metadata": {},
   "outputs": [
    {
     "data": {
      "text/plain": [
       "'iter()'"
      ]
     },
     "execution_count": 100,
     "metadata": {},
     "output_type": "execute_result"
    }
   ],
   "source": [
    "#Name of the method used to initialise the iterator object\n",
    "\"iter()\""
   ]
  },
  {
   "cell_type": "code",
   "execution_count": 101,
   "id": "9680bfb6-5cb9-4dd9-ad3a-7fc0549ffb5e",
   "metadata": {},
   "outputs": [
    {
     "data": {
      "text/plain": [
       "'next()'"
      ]
     },
     "execution_count": 101,
     "metadata": {},
     "output_type": "execute_result"
    }
   ],
   "source": [
    "#name of the method used for iteration\n",
    "\"next()\""
   ]
  },
  {
   "cell_type": "code",
   "execution_count": 110,
   "id": "9c947e31-cec8-44b1-9874-9158c9b4e7d2",
   "metadata": {},
   "outputs": [],
   "source": [
    "list=[2, 4, 6, 8, 10, 12, 14, 16, 18, 20]"
   ]
  },
  {
   "cell_type": "code",
   "execution_count": 111,
   "id": "70f9fa69-315c-4367-bc60-9e57795a799d",
   "metadata": {},
   "outputs": [],
   "source": [
    "list1=iter(list)"
   ]
  },
  {
   "cell_type": "code",
   "execution_count": 112,
   "id": "deffa553-3ffe-42cd-9781-768ce5893054",
   "metadata": {},
   "outputs": [
    {
     "data": {
      "text/plain": [
       "2"
      ]
     },
     "execution_count": 112,
     "metadata": {},
     "output_type": "execute_result"
    }
   ],
   "source": [
    "next(list1)"
   ]
  },
  {
   "cell_type": "code",
   "execution_count": 113,
   "id": "52f12cc6-2b55-4983-8a6c-2b60aa13f575",
   "metadata": {},
   "outputs": [
    {
     "data": {
      "text/plain": [
       "4"
      ]
     },
     "execution_count": 113,
     "metadata": {},
     "output_type": "execute_result"
    }
   ],
   "source": [
    "next(list1)"
   ]
  },
  {
   "cell_type": "code",
   "execution_count": 114,
   "id": "eb742e29-0c6c-4ff1-b1b3-24a1742289dc",
   "metadata": {},
   "outputs": [
    {
     "data": {
      "text/plain": [
       "6"
      ]
     },
     "execution_count": 114,
     "metadata": {},
     "output_type": "execute_result"
    }
   ],
   "source": [
    "next(list1)"
   ]
  },
  {
   "cell_type": "code",
   "execution_count": 115,
   "id": "e614b018-16c3-4294-a925-f26dbd169e8b",
   "metadata": {},
   "outputs": [
    {
     "data": {
      "text/plain": [
       "8"
      ]
     },
     "execution_count": 115,
     "metadata": {},
     "output_type": "execute_result"
    }
   ],
   "source": [
    "next(list1)"
   ]
  },
  {
   "cell_type": "code",
   "execution_count": 116,
   "id": "d84b64bd-55d9-4367-b31a-844077e11c9b",
   "metadata": {},
   "outputs": [
    {
     "data": {
      "text/plain": [
       "10"
      ]
     },
     "execution_count": 116,
     "metadata": {},
     "output_type": "execute_result"
    }
   ],
   "source": [
    "next(list1)"
   ]
  },
  {
   "cell_type": "code",
   "execution_count": null,
   "id": "4540e2db-6b74-415d-9038-4afff2f17e9a",
   "metadata": {},
   "outputs": [],
   "source": [
    "\"\"\"What is a generator function in python? Why yield keyword is used? Give an example of a generator \n",
    "function\"\"\""
   ]
  },
  {
   "cell_type": "code",
   "execution_count": 34,
   "id": "5ab965f9-9951-420c-b528-1c97b4c814c3",
   "metadata": {},
   "outputs": [
    {
     "data": {
      "text/plain": [
       "\"Generators are useful when we want to produce a large sequence of values,but we don't want to store all of them in memory at once\""
      ]
     },
     "execution_count": 34,
     "metadata": {},
     "output_type": "execute_result"
    }
   ],
   "source": [
    "\"Generators are useful when we want to produce a large sequence of values,but we don't want to store all of them in memory at once\""
   ]
  },
  {
   "cell_type": "code",
   "execution_count": 33,
   "id": "ac41a282-816e-4a43-bc61-4f499d12a048",
   "metadata": {},
   "outputs": [
    {
     "data": {
      "text/plain": [
       "'The yield keyword in Python controls the flow of a generator function. This is similar to a return statement used for returning values in Python.'"
      ]
     },
     "execution_count": 33,
     "metadata": {},
     "output_type": "execute_result"
    }
   ],
   "source": [
    "'The yield keyword in Python controls the flow of a generator function. This is similar to a return statement used for returning values in Python.'"
   ]
  },
  {
   "cell_type": "code",
   "execution_count": 119,
   "id": "68250e14-9a9b-40da-b7f9-9dd2364a80e0",
   "metadata": {},
   "outputs": [],
   "source": [
    "def f_feb(n):\n",
    "    a,b=0,1\n",
    "    for i in range(n):\n",
    "        yield a\n",
    "        a,b=b,a+b\n",
    "        "
   ]
  },
  {
   "cell_type": "code",
   "execution_count": 120,
   "id": "fa08e280-f488-4acc-9d50-56225bd30e68",
   "metadata": {},
   "outputs": [
    {
     "name": "stdout",
     "output_type": "stream",
     "text": [
      "0\n",
      "1\n",
      "1\n",
      "2\n",
      "3\n",
      "5\n",
      "8\n",
      "13\n",
      "21\n",
      "34\n"
     ]
    }
   ],
   "source": [
    "for i in f_feb(10):\n",
    "    print(i)"
   ]
  },
  {
   "cell_type": "code",
   "execution_count": null,
   "id": "af2bae8f-62bd-4f9e-941e-8758eb113eb4",
   "metadata": {},
   "outputs": [],
   "source": [
    "\"\"\" Create a generator function for prime numbers less than 1000. Use the next() method to print the \n",
    "first 20 prime numbers\"\"\""
   ]
  },
  {
   "cell_type": "code",
   "execution_count": 6,
   "id": "f7670d6d-512b-47db-821e-e42afa8b73c8",
   "metadata": {},
   "outputs": [],
   "source": [
    "def getPrimes(n):\n",
    "    if n <= 2:\n",
    "        raise StopIteration\n",
    "    yield 2\n",
    "    for i in range(3, n, 2):\n",
    "        for x in range(3, int(i**0.5)+2, 2):\n",
    "            if not i % x:\n",
    "                break\n",
    "        else:\n",
    "            yield i"
   ]
  },
  {
   "cell_type": "code",
   "execution_count": 19,
   "id": "4932e4ab-1a83-498b-8179-407a873e7df2",
   "metadata": {},
   "outputs": [
    {
     "name": "stdout",
     "output_type": "stream",
     "text": [
      "2\n",
      "3\n",
      "5\n",
      "7\n",
      "11\n",
      "13\n",
      "17\n",
      "19\n",
      "23\n",
      "29\n",
      "31\n",
      "37\n",
      "41\n",
      "43\n",
      "47\n",
      "53\n",
      "59\n",
      "61\n",
      "67\n",
      "71\n",
      "73\n",
      "79\n",
      "83\n",
      "89\n",
      "97\n",
      "101\n",
      "103\n",
      "107\n",
      "109\n",
      "113\n",
      "127\n",
      "131\n",
      "137\n",
      "139\n",
      "149\n",
      "151\n",
      "157\n",
      "163\n",
      "167\n",
      "173\n",
      "179\n",
      "181\n",
      "191\n",
      "193\n",
      "197\n",
      "199\n",
      "211\n",
      "223\n",
      "227\n",
      "229\n",
      "233\n",
      "239\n",
      "241\n",
      "251\n",
      "257\n",
      "263\n",
      "269\n",
      "271\n",
      "277\n",
      "281\n",
      "283\n",
      "293\n",
      "307\n",
      "311\n",
      "313\n",
      "317\n",
      "331\n",
      "337\n",
      "347\n",
      "349\n",
      "353\n",
      "359\n",
      "367\n",
      "373\n",
      "379\n",
      "383\n",
      "389\n",
      "397\n",
      "401\n",
      "409\n",
      "419\n",
      "421\n",
      "431\n",
      "433\n",
      "439\n",
      "443\n",
      "449\n",
      "457\n",
      "461\n",
      "463\n",
      "467\n",
      "479\n",
      "487\n",
      "491\n",
      "499\n",
      "503\n",
      "509\n",
      "521\n",
      "523\n",
      "541\n",
      "547\n",
      "557\n",
      "563\n",
      "569\n",
      "571\n",
      "577\n",
      "587\n",
      "593\n",
      "599\n",
      "601\n",
      "607\n",
      "613\n",
      "617\n",
      "619\n",
      "631\n",
      "641\n",
      "643\n",
      "647\n",
      "653\n",
      "659\n",
      "661\n",
      "673\n",
      "677\n",
      "683\n",
      "691\n",
      "701\n",
      "709\n",
      "719\n",
      "727\n",
      "733\n",
      "739\n",
      "743\n",
      "751\n",
      "757\n",
      "761\n",
      "769\n",
      "773\n",
      "787\n",
      "797\n",
      "809\n",
      "811\n",
      "821\n",
      "823\n",
      "827\n",
      "829\n",
      "839\n",
      "853\n",
      "857\n",
      "859\n",
      "863\n",
      "877\n",
      "881\n",
      "883\n",
      "887\n",
      "907\n",
      "911\n",
      "919\n",
      "929\n",
      "937\n",
      "941\n",
      "947\n",
      "953\n",
      "967\n",
      "971\n",
      "977\n",
      "983\n",
      "991\n",
      "997\n"
     ]
    }
   ],
   "source": [
    "for i in getPrimes(1000):\n",
    "    print(i)\n",
    "    "
   ]
  },
  {
   "cell_type": "code",
   "execution_count": 14,
   "id": "4d50b09f-c14c-41f6-adfa-eb448a26f0cf",
   "metadata": {},
   "outputs": [
    {
     "data": {
      "text/plain": [
       "<generator object getPrimes at 0x7f9e6ab44270>"
      ]
     },
     "execution_count": 14,
     "metadata": {},
     "output_type": "execute_result"
    }
   ],
   "source": []
  },
  {
   "cell_type": "code",
   "execution_count": 3,
   "id": "e0fff763-e4e9-49bb-a1bf-3aa2a208359f",
   "metadata": {},
   "outputs": [],
   "source": [
    "#a python program to print the first 10 Fibonacci numbers using a while loop\n",
    "        "
   ]
  },
  {
   "cell_type": "code",
   "execution_count": 4,
   "id": "4ed6b850-f25a-4bb0-a62d-f38977d4d3e0",
   "metadata": {},
   "outputs": [
    {
     "name": "stdin",
     "output_type": "stream",
     "text": [
      "How many terms?  10\n"
     ]
    },
    {
     "name": "stdout",
     "output_type": "stream",
     "text": [
      "0\n",
      "1\n",
      "1\n",
      "2\n",
      "3\n",
      "5\n",
      "8\n",
      "13\n",
      "21\n",
      "34\n"
     ]
    }
   ],
   "source": [
    "nterms = int(input(\"How many terms? \"))\n",
    "n1, n2 = 0, 1\n",
    "count = 0\n",
    "while count < nterms:\n",
    "       print(n1)\n",
    "       nth = n1 + n2\n",
    "       # update values\n",
    "       n1 = n2\n",
    "       n2 = nth\n",
    "       count += 1\n",
    "    "
   ]
  },
  {
   "cell_type": "code",
   "execution_count": null,
   "id": "d06c98fd-9020-417b-8b9c-97831a3b502d",
   "metadata": {},
   "outputs": [],
   "source": [
    "\"\"\"Write a List Comprehension to iterate through the given string: ‘pwskills’.\n",
    "\n",
    "Expected output: ['p', 'w', 's', 'k', 'i', 'l', 'l', 's'] \"\"\""
   ]
  },
  {
   "cell_type": "code",
   "execution_count": 10,
   "id": "dd5ba53f-61e7-4bdf-af7f-55eff9dd96bd",
   "metadata": {},
   "outputs": [
    {
     "name": "stdout",
     "output_type": "stream",
     "text": [
      "['p', 'w', 's', 'k', 'i', 'l', 'l', 's']\n"
     ]
    }
   ],
   "source": [
    "str=\"pwskills\"\n",
    "list_str=[]\n",
    "for i in str:\n",
    "    list_str.append(i)\n",
    "print(list_str)"
   ]
  },
  {
   "cell_type": "code",
   "execution_count": null,
   "id": "d48540b6-808e-42a8-b40a-955774a99ac1",
   "metadata": {},
   "outputs": [],
   "source": [
    "#a python program to check whether a given number is Palindrome or not using a while loop"
   ]
  },
  {
   "cell_type": "code",
   "execution_count": 14,
   "id": "c6d35201-93ba-4862-97c5-a11e395ab77c",
   "metadata": {},
   "outputs": [
    {
     "name": "stdout",
     "output_type": "stream",
     "text": [
      "Palindrome\n"
     ]
    }
   ],
   "source": [
    "num = 1221\n",
    "temp = num\n",
    "reverse = 0\n",
    "while temp > 0:\n",
    "    remainder = temp % 10\n",
    "    reverse = (reverse * 10) + remainder\n",
    "    temp = temp // 10\n",
    "if num == reverse:\n",
    "  print('Palindrome')\n",
    "else:\n",
    "  print(\"Not Palindrome\")"
   ]
  },
  {
   "cell_type": "code",
   "execution_count": 15,
   "id": "c759694c-a619-4313-adff-1c5406a129c6",
   "metadata": {},
   "outputs": [],
   "source": [
    "#a code to print odd numbers from 1 to 100 using list comprehension"
   ]
  },
  {
   "cell_type": "code",
   "execution_count": 16,
   "id": "782fda14-5391-4e04-a8fa-b212c896c42a",
   "metadata": {},
   "outputs": [],
   "source": [
    "def list_odd(n):\n",
    "    list1_odd=[]\n",
    "    for i in range(n):\n",
    "        if i%2!=0:\n",
    "            yield i\n",
    "    list1_odd.append(i)"
   ]
  },
  {
   "cell_type": "code",
   "execution_count": 17,
   "id": "6c48d9dc-7dd5-4b8a-bfe8-fbd1376c104d",
   "metadata": {},
   "outputs": [
    {
     "name": "stdout",
     "output_type": "stream",
     "text": [
      "1\n",
      "3\n",
      "5\n",
      "7\n",
      "9\n",
      "11\n",
      "13\n",
      "15\n",
      "17\n",
      "19\n",
      "21\n",
      "23\n",
      "25\n",
      "27\n",
      "29\n",
      "31\n",
      "33\n",
      "35\n",
      "37\n",
      "39\n",
      "41\n",
      "43\n",
      "45\n",
      "47\n",
      "49\n",
      "51\n",
      "53\n",
      "55\n",
      "57\n",
      "59\n",
      "61\n",
      "63\n",
      "65\n",
      "67\n",
      "69\n",
      "71\n",
      "73\n",
      "75\n",
      "77\n",
      "79\n",
      "81\n",
      "83\n",
      "85\n",
      "87\n",
      "89\n",
      "91\n",
      "93\n",
      "95\n",
      "97\n",
      "99\n"
     ]
    }
   ],
   "source": [
    "list_fin= i for i in list_odd(100):\n",
    "    print(i)"
   ]
  },
  {
   "cell_type": "code",
   "execution_count": null,
   "id": "b5f64c37-ed5b-4fbd-a55d-0b5718f83465",
   "metadata": {},
   "outputs": [],
   "source": []
  }
 ],
 "metadata": {
  "kernelspec": {
   "display_name": "Python 3 (ipykernel)",
   "language": "python",
   "name": "python3"
  },
  "language_info": {
   "codemirror_mode": {
    "name": "ipython",
    "version": 3
   },
   "file_extension": ".py",
   "mimetype": "text/x-python",
   "name": "python",
   "nbconvert_exporter": "python",
   "pygments_lexer": "ipython3",
   "version": "3.10.8"
  }
 },
 "nbformat": 4,
 "nbformat_minor": 5
}
