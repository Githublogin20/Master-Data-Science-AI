{
 "cells": [
  {
   "cell_type": "code",
   "execution_count": 2,
   "id": "28f0a10b-4ebb-4895-a615-1b09169aa912",
   "metadata": {},
   "outputs": [],
   "source": [
    "#Q1 Exception In Pyhton "
   ]
  },
  {
   "cell_type": "code",
   "execution_count": 3,
   "id": "f8153816-533f-462c-8d82-044ba96099b9",
   "metadata": {},
   "outputs": [
    {
     "data": {
      "text/plain": [
       "'An exception in Python represents an error.When a Python script raises an exception, it must either handle the exception immediately otherwise it terminates and quits.'"
      ]
     },
     "execution_count": 3,
     "metadata": {},
     "output_type": "execute_result"
    }
   ],
   "source": [
    "\"\"\"An exception in Python represents an error.When a Python script raises an exception, it must either handle the exception immediately otherwise it terminates and quits.\"\"\""
   ]
  },
  {
   "cell_type": "code",
   "execution_count": 4,
   "id": "cab2216b-7ae7-4f44-a37e-8d5773917b87",
   "metadata": {},
   "outputs": [],
   "source": [
    "#difference B/W syntax error and Exception"
   ]
  },
  {
   "cell_type": "code",
   "execution_count": 7,
   "id": "196e4d73-cc0e-42a2-8172-698957ec8071",
   "metadata": {},
   "outputs": [
    {
     "data": {
      "text/plain": [
       "'Syntax errors are usually caused by mistakes in the source code, such as typos, incorrect use of syntax.Syntax errors are usually detected by the compiler or interpreter when the program is being compiled or executed, and they prevent the program from running....While ... Exceptions are usually caused by runtime errors, such as dividing by zero, trying to access an element in an array with an out-of-bounds index, or trying to access a file that does not exist. Exceptions are not syntax errors, but they can still prevent the program from running if they are not handled properly.'"
      ]
     },
     "execution_count": 7,
     "metadata": {},
     "output_type": "execute_result"
    }
   ],
   "source": [
    "\"\"\"Syntax errors are usually caused by mistakes in the source code, such as typos, incorrect use of syntax.Syntax errors are usually detected by the compiler or interpreter when the program is being compiled or executed, and they prevent the program from running....While ... Exceptions are usually caused by runtime errors, such as dividing by zero, trying to access an element in an array with an out-of-bounds index, or trying to access a file that does not exist. Exceptions are not syntax errors, but they can still prevent the program from running if they are not handled properly.\"\"\""
   ]
  },
  {
   "cell_type": "code",
   "execution_count": 8,
   "id": "8856efe2-88ff-4151-b4f5-4dd2fcf04574",
   "metadata": {},
   "outputs": [],
   "source": [
    "#Q2 what happens when an exception is not handled "
   ]
  },
  {
   "cell_type": "code",
   "execution_count": 10,
   "id": "697a63d4-adda-4242-bea9-a442c305198b",
   "metadata": {},
   "outputs": [
    {
     "data": {
      "text/plain": [
       "\"Python language executes the program in sequential order so lets say  if there is any exception in the program and it is not handled properly then entire program will terminate or crash immediately and exception message will be print in the console.so this is very important to handle the exception properly so that program execute can't not be terminate\""
      ]
     },
     "execution_count": 10,
     "metadata": {},
     "output_type": "execute_result"
    }
   ],
   "source": [
    "\"\"\"Python language executes the program in sequential order so lets say  if there is any exception in the program and it is not handled properly then entire program will terminate or crash immediately and exception message will be print in the console.so this is very important to handle the exception properly so that program execute can't not be terminate\"\"\""
   ]
  },
  {
   "cell_type": "code",
   "execution_count": 12,
   "id": "3ea4ff84-1bea-472c-9b27-740c4ad04e19",
   "metadata": {},
   "outputs": [],
   "source": [
    "#Example "
   ]
  },
  {
   "cell_type": "code",
   "execution_count": 24,
   "id": "8c8ad17b-7bab-4612-8116-d438b044bad7",
   "metadata": {},
   "outputs": [
    {
     "name": "stdin",
     "output_type": "stream",
     "text": [
      " 87\n"
     ]
    },
    {
     "name": "stdout",
     "output_type": "stream",
     "text": [
      "Entered Number is 87\n"
     ]
    },
    {
     "ename": "ZeroDivisionError",
     "evalue": "division by zero",
     "output_type": "error",
     "traceback": [
      "\u001b[0;31m---------------------------------------------------------------------------\u001b[0m",
      "\u001b[0;31mZeroDivisionError\u001b[0m                         Traceback (most recent call last)",
      "Cell \u001b[0;32mIn[24], line 3\u001b[0m\n\u001b[1;32m      1\u001b[0m a\u001b[38;5;241m=\u001b[39m\u001b[38;5;28mint\u001b[39m(\u001b[38;5;28minput\u001b[39m())\n\u001b[1;32m      2\u001b[0m \u001b[38;5;28mprint\u001b[39m(\u001b[38;5;124m\"\u001b[39m\u001b[38;5;124mEntered Number is\u001b[39m\u001b[38;5;124m\"\u001b[39m,a)\n\u001b[0;32m----> 3\u001b[0m c\u001b[38;5;241m=\u001b[39m\u001b[43ma\u001b[49m\u001b[38;5;241;43m/\u001b[39;49m\u001b[38;5;241;43m0\u001b[39;49m\n\u001b[1;32m      4\u001b[0m \u001b[38;5;28mprint\u001b[39m(c)        \n",
      "\u001b[0;31mZeroDivisionError\u001b[0m: division by zero"
     ]
    }
   ],
   "source": [
    "a=int(input())\n",
    "print(\"Entered Number is\",a)\n",
    "c=a/0\n",
    "print(c)        "
   ]
  },
  {
   "cell_type": "code",
   "execution_count": 25,
   "id": "d2d98462-9ef6-40d3-939a-bde4f2da90a5",
   "metadata": {},
   "outputs": [
    {
     "name": "stdin",
     "output_type": "stream",
     "text": [
      " 55\n"
     ]
    },
    {
     "name": "stdout",
     "output_type": "stream",
     "text": [
      "Entered Number is 55\n",
      "number can't be divisible by zero and should be handle by ZeroDivisionError Exception Class  division by zero\n"
     ]
    }
   ],
   "source": [
    "try:\n",
    "    a=int(input())\n",
    "    print(\"Entered Number is\",a)\n",
    "    c=a/0\n",
    "    print(c) \n",
    "except Exception as e:\n",
    "    print(\"number can't be divisible by zero and should be handle by ZeroDivisionError Exception Class \",e)"
   ]
  },
  {
   "cell_type": "code",
   "execution_count": 26,
   "id": "884ef476-4e56-4ba9-a85c-601b420f0ad4",
   "metadata": {},
   "outputs": [],
   "source": [
    "#Q3 statement used to catch and Handle Exception"
   ]
  },
  {
   "cell_type": "code",
   "execution_count": null,
   "id": "ffa55cd4-9f23-4e09-b8ea-e69fa67e3331",
   "metadata": {},
   "outputs": [],
   "source": [
    "except Exception as e:\n",
    "    print(\"statement used to catch the and handle the statement\",e)"
   ]
  },
  {
   "cell_type": "code",
   "execution_count": null,
   "id": "1285ee0f-870a-43ba-aa8f-ee9b6d829e8d",
   "metadata": {},
   "outputs": [],
   "source": [
    "#Example "
   ]
  },
  {
   "cell_type": "code",
   "execution_count": 28,
   "id": "9548f722-1dec-4488-878c-6c16c4e8cf15",
   "metadata": {},
   "outputs": [
    {
     "name": "stdout",
     "output_type": "stream",
     "text": [
      "file is not found to read [Errno 2] No such file or directory: 'exception_text.txt'\n"
     ]
    }
   ],
   "source": [
    "try:\n",
    "    f=open(\"exception_text.txt\",\"r\")\n",
    "    f.read()\n",
    "except FileNotFoundError as e:\n",
    "    print(\"file is not found to read\",e)"
   ]
  },
  {
   "cell_type": "code",
   "execution_count": 29,
   "id": "b9681abe-67d9-415b-937c-9bbb55b45f8b",
   "metadata": {},
   "outputs": [],
   "source": [
    "#Q4 Example to use try else  , fianlly and raise "
   ]
  },
  {
   "cell_type": "code",
   "execution_count": 32,
   "id": "83a584ab-f4f1-4479-9a13-50c2dc794456",
   "metadata": {},
   "outputs": [
    {
     "name": "stdout",
     "output_type": "stream",
     "text": [
      "this is the try block which will execute the program and print the statement\n",
      "file will be created and this statement will be print to this file \n",
      "this block will be execute if try block will  execute successfully\n",
      "this block will execute either try block will execute successfully or failed\n"
     ]
    }
   ],
   "source": [
    "try:\n",
    "    \n",
    "    with open(\"write_file_text.text\",\"w\") as f:\n",
    "        f.write(\"file will be created and this statement will be print to this file \")\n",
    "        print(\"this is the try block which will execute the program and print the statement\")\n",
    "        \n",
    "except FileNotFoundError as e:\n",
    "    print(\"This block will execute to handle the exception if there is an error at runtime\",e)\n",
    "    \n",
    "else:\n",
    "    with open(\"write_file_text.text\",\"r\") as f:\n",
    "        read_file=f.read()\n",
    "        print(read_file)\n",
    "        print(\"this block will be execute if try block will  execute successfully\")\n",
    "\n",
    "finally:\n",
    "    f.close()\n",
    "    print(\"this block will execute either try block will execute successfully or failed\")\n",
    "    \n",
    "        "
   ]
  },
  {
   "cell_type": "code",
   "execution_count": 3,
   "id": "26f95d0f-b92b-4384-8c44-6efee58feba9",
   "metadata": {},
   "outputs": [],
   "source": [
    "class Raise_class(Exception):\n",
    "    def __init__(self,msg):\n",
    "        self.msg=msg"
   ]
  },
  {
   "cell_type": "code",
   "execution_count": 14,
   "id": "40aa704b-09ad-47ad-a822-d0497f444f19",
   "metadata": {},
   "outputs": [],
   "source": [
    "def Raise_fun(amount):\n",
    "    if amount<=0:\n",
    "        raise Raise_class(\"amount can't be withdraw\")\n",
    "    elif amount >0:\n",
    "        raise Raise_class(\"amount can be withdraw\")    \n",
    "    "
   ]
  },
  {
   "cell_type": "code",
   "execution_count": 15,
   "id": "947b980a-19e9-4b1a-b4ee-26412e4bd87b",
   "metadata": {},
   "outputs": [
    {
     "name": "stdin",
     "output_type": "stream",
     "text": [
      "entered amount 0\n"
     ]
    },
    {
     "name": "stdout",
     "output_type": "stream",
     "text": [
      "amount can't be withdraw\n"
     ]
    }
   ],
   "source": [
    "try:\n",
    "    amount=int(input(\"entered amount\"))\n",
    "    Raise_fun(amount)\n",
    "    \n",
    "except Raise_class as e:\n",
    "    print(e)\n"
   ]
  },
  {
   "cell_type": "code",
   "execution_count": null,
   "id": "c000cba0-a8f4-40a7-977d-3312159228a5",
   "metadata": {},
   "outputs": [],
   "source": []
  }
 ],
 "metadata": {
  "kernelspec": {
   "display_name": "Python 3 (ipykernel)",
   "language": "python",
   "name": "python3"
  },
  "language_info": {
   "codemirror_mode": {
    "name": "ipython",
    "version": 3
   },
   "file_extension": ".py",
   "mimetype": "text/x-python",
   "name": "python",
   "nbconvert_exporter": "python",
   "pygments_lexer": "ipython3",
   "version": "3.10.8"
  }
 },
 "nbformat": 4,
 "nbformat_minor": 5
}
