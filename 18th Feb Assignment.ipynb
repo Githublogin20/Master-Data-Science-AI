{
 "cells": [
  {
   "cell_type": "code",
   "execution_count": null,
   "id": "b2b98207-00ee-46fc-a0b9-2bbdf0518dde",
   "metadata": {},
   "outputs": [],
   "source": [
    "#Q1. What is an API? Give an example, where an API is used in real life.\n",
    "\n"
   ]
  },
  {
   "cell_type": "code",
   "execution_count": 2,
   "id": "aaca2f98-e594-47b1-bd15-355a83777841",
   "metadata": {},
   "outputs": [
    {
     "data": {
      "text/plain": [
       "'API stands for application programming interface. APIs are mechanisms that enable two software components to communicate with each other using a set of definitions and protocols.'"
      ]
     },
     "execution_count": 2,
     "metadata": {},
     "output_type": "execute_result"
    }
   ],
   "source": [
    "\"\"\"API stands for application programming interface. APIs are mechanisms that enable two software components to communicate with each other using a set of definitions and protocols.\"\"\""
   ]
  },
  {
   "cell_type": "code",
   "execution_count": 3,
   "id": "e79ab668-1361-46a4-a289-caf15d0e0a29",
   "metadata": {},
   "outputs": [
    {
     "data": {
      "text/plain": [
       "\"For example, the weather bureau's software system contains daily weather data. The weather app on your phone “talks” to this system via APIs and shows you daily weather updates on your phone.\""
      ]
     },
     "execution_count": 3,
     "metadata": {},
     "output_type": "execute_result"
    }
   ],
   "source": [
    "\"\"\"For example, the weather bureau's software system contains daily weather data. The weather app on your phone “talks” to this system via APIs and shows you daily weather updates on your phone.\"\"\""
   ]
  },
  {
   "cell_type": "code",
   "execution_count": 4,
   "id": "2dfae05f-3924-457c-b75f-289086c7900e",
   "metadata": {},
   "outputs": [],
   "source": [
    "#Q2. Give advantages and disadvantages of using API. "
   ]
  },
  {
   "cell_type": "code",
   "execution_count": null,
   "id": "f8f934b9-b69f-4b99-8a96-fdf19a2470c2",
   "metadata": {},
   "outputs": [],
   "source": [
    "Advantages:\n",
    "\n",
    "1. Increased Interoperability: API solutions enable different software systems to communicate with each other, regardless of their programming language or platform. This enhances the interoperability between systems, allowing for the exchange of data and functionality.\n",
    "2. Improved Efficiency: API driven infrastructures enable developers to reuse code and functionality from existing software systems, saving time and reducing the amount of code that needs to be written from scratch.\n",
    "3. Better User Experience: APIs can enable third-party developers to create applications that integrate with existing software systems, providing a better user experience and increased functionality.\n",
    "4. Increased Flexibility: APIs provide developers with greater flexibility, enabling them to choose the best programming languages and frameworks for their needs.\n",
    "5. New Revenue Streams: APIs can enable companies to create new revenue streams by providing third-party developers with access to their software systems.\n",
    "\n",
    "Disadvantages:\n",
    "    \n",
    "1. Security Concerns: API infrastructures can be vulnerable to security breaches, such as SQL injection attacks and cross-site scripting (XSS) attacks, making it crucial to implement security measures to protect against these threats.\n",
    "2. Complexity: APIs can be complex, requiring a significant amount of development effort to implement and maintain.\n",
    "3. Compatibility Issues: APIs can have compatibility issues between different versions of the same software system or between different systems, which can lead to errors and system failures.\n",
    "4. Dependency on Third-Party Developers: APIs rely on third-party developers to create applications that integrate with the software system. This can create dependencies that are outside of the control of the company that owns the software system.\n",
    "5. Governance and Management: APIs require proper governance and management to ensure they are being used correctly and consistently across different applications and systems."
   ]
  },
  {
   "cell_type": "code",
   "execution_count": null,
   "id": "161b5a15-74a6-45ef-a05c-d4dc0e9b90e9",
   "metadata": {},
   "outputs": [],
   "source": [
    "#Q3. What is a Web API? Differentiate between API and Web API"
   ]
  },
  {
   "cell_type": "code",
   "execution_count": 11,
   "id": "f78e0d82-4bb9-42fe-81a3-5667009a3c4d",
   "metadata": {},
   "outputs": [
    {
     "data": {
      "text/plain": [
       "'A web API is an application programming interface (API) for either a web server or a web browse . it is also known as clint -server architecture.Web API is an API over the web which can be accessed using HTTP protocol  '"
      ]
     },
     "execution_count": 11,
     "metadata": {},
     "output_type": "execute_result"
    }
   ],
   "source": [
    "\"\"\"A web API is an application programming interface (API) for either a web server or a web browse . it is also known as clint -server architecture.Web API is an API over the web which can be accessed using HTTP protocol  \"\"\""
   ]
  },
  {
   "cell_type": "code",
   "execution_count": 12,
   "id": "d185eeae-4385-4397-ae3c-2eb7b4f83926",
   "metadata": {},
   "outputs": [
    {
     "data": {
      "text/plain": [
       "\"API is an interface that exposes an application's data to outside software, whereas web applications are one type of API with stricter requirements. These requirements include network communication, SOAP as the primary protocol, and less accessibility for the public.\""
      ]
     },
     "execution_count": 12,
     "metadata": {},
     "output_type": "execute_result"
    }
   ],
   "source": [
    "\"\"\"API is an interface that exposes an application's data to outside software, whereas web applications are one type of API with stricter requirements. These requirements include network communication, SOAP as the primary protocol, and less accessibility for the public.\"\"\""
   ]
  },
  {
   "cell_type": "code",
   "execution_count": null,
   "id": "1f3f2cd8-cc36-4889-98a3-c25ad9698c24",
   "metadata": {},
   "outputs": [],
   "source": [
    "#4. Explain REST and SOAP Architecture. Mention shortcomings of SOAP."
   ]
  },
  {
   "cell_type": "code",
   "execution_count": 15,
   "id": "f3634602-4a29-4ce5-93db-0e3b451a0ee8",
   "metadata": {},
   "outputs": [
    {
     "data": {
      "text/plain": [
       "'Representational state transfer (REST) is a set of architectural principles. Simple object access protocol (SOAP) is an official protocol maintained by the World Wide Web Consortium (W3C).SOAP and REST are two different approaches to API design. The SOAP approach is highly structured and uses XML data format. REST is more flexible and allows applications to exchange data in multiple formats.'"
      ]
     },
     "execution_count": 15,
     "metadata": {},
     "output_type": "execute_result"
    }
   ],
   "source": [
    "\"\"\"Representational state transfer (REST) is a set of architectural principles. Simple object access protocol (SOAP) is an official protocol maintained by the World Wide Web Consortium (W3C).SOAP and REST are two different approaches to API design. The SOAP approach is highly structured and uses XML data format. REST is more flexible and allows applications to exchange data in multiple formats.\"\"\""
   ]
  },
  {
   "cell_type": "code",
   "execution_count": null,
   "id": "7b6f275e-c5cc-44fe-b4d5-ad7422ced8fc",
   "metadata": {},
   "outputs": [],
   "source": [
    "#shortcoming of SOAP"
   ]
  },
  {
   "cell_type": "code",
   "execution_count": 16,
   "id": "25bf79c4-99ea-400a-919c-5b43e6886cd1",
   "metadata": {},
   "outputs": [
    {
     "data": {
      "text/plain": [
       "'Highly complex. In comparison to Rest, SOAP is significantly more complex. ...\\nNo variety of data formats. SOAP is also extremely limited in its support of data formats. ...\\nAPI calls are not cached. ...\\nUses more bandwidth.'"
      ]
     },
     "execution_count": 16,
     "metadata": {},
     "output_type": "execute_result"
    }
   ],
   "source": [
    "\"\"\"Highly complex. In comparison to Rest, SOAP is significantly more complex. ...\n",
    "No variety of data formats. SOAP is also extremely limited in its support of data formats. ...\n",
    "API calls are not cached. ...\n",
    "Uses more bandwidth.\"\"\""
   ]
  },
  {
   "cell_type": "code",
   "execution_count": null,
   "id": "509eb492-5cb2-4d58-87d0-d4ae37090e5a",
   "metadata": {},
   "outputs": [],
   "source": [
    "#Q5. Differentiate between REST and SOAP"
   ]
  },
  {
   "cell_type": "code",
   "execution_count": 13,
   "id": "82406d57-93cc-4489-94a2-ffa4209671d0",
   "metadata": {},
   "outputs": [
    {
     "data": {
      "text/plain": [
       "\"SOAP and REST are two internet data exchange mechanisms. For example, imagine that your internal accounts system shares data with your customer's accounting system to automate invoicing tasks. The two applications share data by using an API that defines communication rules. SOAP and REST are two different approaches to API design. The SOAP approach is highly structured and uses XML data format. REST is more flexible and allows applications to exchange data in multiple formats.\""
      ]
     },
     "execution_count": 13,
     "metadata": {},
     "output_type": "execute_result"
    }
   ],
   "source": [
    "\"\"\"SOAP and REST are two internet data exchange mechanisms. For example, imagine that your internal accounts system shares data with your customer's accounting system to automate invoicing tasks. The two applications share data by using an API that defines communication rules. SOAP and REST are two different approaches to API design. The SOAP approach is highly structured and uses XML data format. REST is more flexible and allows applications to exchange data in multiple formats.\"\"\""
   ]
  },
  {
   "cell_type": "code",
   "execution_count": null,
   "id": "53278982-f975-46a2-bd6f-6c50828c2bc9",
   "metadata": {},
   "outputs": [],
   "source": []
  }
 ],
 "metadata": {
  "kernelspec": {
   "display_name": "Python 3 (ipykernel)",
   "language": "python",
   "name": "python3"
  },
  "language_info": {
   "codemirror_mode": {
    "name": "ipython",
    "version": 3
   },
   "file_extension": ".py",
   "mimetype": "text/x-python",
   "name": "python",
   "nbconvert_exporter": "python",
   "pygments_lexer": "ipython3",
   "version": "3.10.8"
  }
 },
 "nbformat": 4,
 "nbformat_minor": 5
}
