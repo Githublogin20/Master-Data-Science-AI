{
 "cells": [
  {
   "cell_type": "code",
   "execution_count": null,
   "id": "52272181-e820-4ff3-b611-c62d17ef3130",
   "metadata": {},
   "outputs": [],
   "source": [
    "#Q1. Explain GET and POST methods."
   ]
  },
  {
   "cell_type": "code",
   "execution_count": 1,
   "id": "1ac70a14-d2c3-406a-8aba-746b9787063c",
   "metadata": {},
   "outputs": [
    {
     "data": {
      "text/plain": [
       "'Both GET and POST method is used to transfer data from client to server in HTTP protocol but Main difference between POST and GET method is that GET carries request parameter appended in URL string while POST carries request parameter in message body'"
      ]
     },
     "execution_count": 1,
     "metadata": {},
     "output_type": "execute_result"
    }
   ],
   "source": [
    "\"\"\"Both GET and POST method is used to transfer data from client to server in HTTP protocol but Main difference between POST and GET method is that GET carries request parameter appended in URL string while POST carries request parameter in message body\"\"\""
   ]
  },
  {
   "cell_type": "code",
   "execution_count": null,
   "id": "3d5869af-e074-4f2e-9d36-7b490755f075",
   "metadata": {},
   "outputs": [],
   "source": [
    "#Q2. Why is request used in Flask?"
   ]
  },
  {
   "cell_type": "code",
   "execution_count": 2,
   "id": "d9c8cb45-9ec4-47ef-8345-8e594d2e676b",
   "metadata": {},
   "outputs": [
    {
     "data": {
      "text/plain": [
       "\"The Flask Request Object is used to perform both sending and receiving operations from a user's browser to the server and process the request data from the server\""
      ]
     },
     "execution_count": 2,
     "metadata": {},
     "output_type": "execute_result"
    }
   ],
   "source": [
    "\"\"\"The Flask Request Object is used to perform both sending and receiving operations from a user's browser to the server and process the request data from the server\"\"\""
   ]
  },
  {
   "cell_type": "code",
   "execution_count": null,
   "id": "97c080c3-f1f1-4458-be4e-85c1f989b640",
   "metadata": {},
   "outputs": [],
   "source": [
    "#3. Why is redirect() used in Flask?"
   ]
  },
  {
   "cell_type": "code",
   "execution_count": 3,
   "id": "d459f3ef-7796-4a18-855f-0168e3ad8b54",
   "metadata": {},
   "outputs": [
    {
     "data": {
      "text/plain": [
       "'The redirect function allows you to redirect the user to another URL. redirect can be used in Server Components, Client Components, Route Handlers, and Server Actions'"
      ]
     },
     "execution_count": 3,
     "metadata": {},
     "output_type": "execute_result"
    }
   ],
   "source": [
    "\"\"\"The redirect function allows you to redirect the user to another URL. redirect can be used in Server Components, Client Components, Route Handlers, and Server Actions\"\"\""
   ]
  },
  {
   "cell_type": "code",
   "execution_count": null,
   "id": "099a2dec-7020-4592-aeb0-f17ac7024fc5",
   "metadata": {},
   "outputs": [],
   "source": [
    "#Q4. What are templates in Flask? Why is the render_template() function used?"
   ]
  },
  {
   "cell_type": "code",
   "execution_count": 5,
   "id": "9c1eb21a-41a0-4282-8775-ef7f7bd55043",
   "metadata": {},
   "outputs": [
    {
     "data": {
      "text/plain": [
       "'Templates are files that contain static data as well as placeholders for dynamic data. A template is rendered with specific data to produce a final document.'"
      ]
     },
     "execution_count": 5,
     "metadata": {},
     "output_type": "execute_result"
    }
   ],
   "source": [
    "\"\"\"Templates are files that contain static data as well as placeholders for dynamic data. A template is rendered with specific data to produce a final document.\"\"\""
   ]
  },
  {
   "cell_type": "code",
   "execution_count": null,
   "id": "6b0e7a0b-6258-4f3a-a368-c7fae1ab3797",
   "metadata": {},
   "outputs": [],
   "source": []
  }
 ],
 "metadata": {
  "kernelspec": {
   "display_name": "Python 3 (ipykernel)",
   "language": "python",
   "name": "python3"
  },
  "language_info": {
   "codemirror_mode": {
    "name": "ipython",
    "version": 3
   },
   "file_extension": ".py",
   "mimetype": "text/x-python",
   "name": "python",
   "nbconvert_exporter": "python",
   "pygments_lexer": "ipython3",
   "version": "3.10.8"
  }
 },
 "nbformat": 4,
 "nbformat_minor": 5
}
