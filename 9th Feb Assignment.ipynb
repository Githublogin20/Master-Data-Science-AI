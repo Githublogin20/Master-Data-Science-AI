{
 "cells": [
  {
   "cell_type": "code",
   "execution_count": null,
   "id": "23f820e2-74c0-457c-97ab-c02861711db8",
   "metadata": {},
   "outputs": [],
   "source": [
    "\"\"\"Create a vehicle class with an init method having instance variables as name_of_vehicle, max_speed \n",
    "and average_of_vehicle. \"\"\""
   ]
  },
  {
   "cell_type": "code",
   "execution_count": 3,
   "id": "003bf154-b258-47a0-bb95-5d91516227bb",
   "metadata": {},
   "outputs": [],
   "source": [
    "class vehicle :\n",
    "    \n",
    "    def __init__(self,name_of_vehicle,max_speed,average_of_vehicle):\n",
    "        self.name_of_vehicle=name_of_vehicle\n",
    "        self.max_speed=max_speed\n",
    "        self.average_of_vehicle=average_of_vehicle"
   ]
  },
  {
   "cell_type": "code",
   "execution_count": null,
   "id": "bbdfafce-36f4-4e67-92b0-69cca4f76096",
   "metadata": {},
   "outputs": [],
   "source": [
    "\"\"\"Create a child class car from the vehicle class created in Que 1, which will inherit the vehicle class. \n",
    "Create a method named seating_capacity which takes capacity as an argument and returns the name of \n",
    "the vehicle and its seating capacity\"\"\""
   ]
  },
  {
   "cell_type": "code",
   "execution_count": 12,
   "id": "15cf6cab-1a72-4a15-a557-a0c7798722dd",
   "metadata": {},
   "outputs": [],
   "source": [
    "class car(vehicle):\n",
    "    \n",
    "    def seating_capacity(self,capacity):\n",
    "        self.capacity=capacity\n",
    "        return self.name_of_vehicle,self.capacity    \n",
    "    "
   ]
  },
  {
   "cell_type": "code",
   "execution_count": 13,
   "id": "d2516203-6128-4a1f-bdf3-eb13cb439a85",
   "metadata": {},
   "outputs": [],
   "source": [
    "car_obj=car(\"Kia\",180,14)"
   ]
  },
  {
   "cell_type": "code",
   "execution_count": 14,
   "id": "a74246ba-1cfa-4a14-8097-c829408191cc",
   "metadata": {},
   "outputs": [
    {
     "data": {
      "text/plain": [
       "('Kia', 5)"
      ]
     },
     "execution_count": 14,
     "metadata": {},
     "output_type": "execute_result"
    }
   ],
   "source": [
    "car_obj.seating_capacity(5)"
   ]
  },
  {
   "cell_type": "code",
   "execution_count": null,
   "id": "b4356c8a-b2db-4742-9bfa-1e11644f959f",
   "metadata": {},
   "outputs": [],
   "source": [
    "#What is multiple inheritance? Write a python code to demonstrate multiple inheritance."
   ]
  },
  {
   "cell_type": "code",
   "execution_count": 52,
   "id": "9c08a3b8-362d-4fc4-bf27-57016e4a3f9a",
   "metadata": {},
   "outputs": [
    {
     "data": {
      "text/plain": [
       "'when a class is derived from more than one base class it is called multiple Inheritance.\\nMultiple inheritance is one of the oops concept which will inharit the properties of its parent classes .like child inherits the properties of father and mother  . \\nother example would be : lets say we have 2 parent classes A, B and lets say class C (child class) wants to inherit the properties of A and B then it will call Multiple inheritance '"
      ]
     },
     "execution_count": 52,
     "metadata": {},
     "output_type": "execute_result"
    }
   ],
   "source": [
    "\"\"\"when a class is derived from more than one base class it is called multiple Inheritance.\n",
    "Multiple inheritance is one of the oops concept which will inharit the properties of its parent classes .like child inherits the properties of father and mother  . \n",
    "other example would be : lets say we have 2 parent classes A, B and lets say class C (child class) wants to inherit the properties of A and B then it will call Multiple inheritance \"\"\""
   ]
  },
  {
   "cell_type": "code",
   "execution_count": 24,
   "id": "d434cb91-e359-46f4-a902-45df0c6a20dd",
   "metadata": {},
   "outputs": [],
   "source": [
    "class A:\n",
    "    def func_A(self):\n",
    "        print(\"This is the function of class A\")"
   ]
  },
  {
   "cell_type": "code",
   "execution_count": 25,
   "id": "574a45ef-e89f-49ec-b1a8-b56bbfd6a8bb",
   "metadata": {},
   "outputs": [],
   "source": [
    "class B:\n",
    "    def func_B(self):\n",
    "        print(\"This is the function of class B\")"
   ]
  },
  {
   "cell_type": "code",
   "execution_count": 26,
   "id": "deebd22e-db33-4a08-99f5-28b22f34924d",
   "metadata": {},
   "outputs": [],
   "source": [
    "class C(A,B):\n",
    "    pass"
   ]
  },
  {
   "cell_type": "code",
   "execution_count": 27,
   "id": "6c40e09d-2642-45f4-b7bc-5637b633ebc7",
   "metadata": {},
   "outputs": [],
   "source": [
    "C_object=C()"
   ]
  },
  {
   "cell_type": "code",
   "execution_count": 28,
   "id": "2e5852be-1f4b-44f6-92d4-ee45c106f27a",
   "metadata": {},
   "outputs": [
    {
     "name": "stdout",
     "output_type": "stream",
     "text": [
      "This is the function of class A\n"
     ]
    }
   ],
   "source": [
    "C_object.func_A()"
   ]
  },
  {
   "cell_type": "code",
   "execution_count": 29,
   "id": "8de8a0cc-36d7-4e20-8988-bdc5a61e7407",
   "metadata": {},
   "outputs": [
    {
     "name": "stdout",
     "output_type": "stream",
     "text": [
      "This is the function of class B\n"
     ]
    }
   ],
   "source": [
    "C_object.func_B()"
   ]
  },
  {
   "cell_type": "code",
   "execution_count": null,
   "id": "97b57618-547f-4cf6-9350-2500e37e19ee",
   "metadata": {},
   "outputs": [],
   "source": [
    "#What are getter and setter in python? Create a class and create a getter and a setter method in this class"
   ]
  },
  {
   "cell_type": "code",
   "execution_count": 31,
   "id": "c0a7048d-bfa5-43a3-bee9-bdf464f9de4c",
   "metadata": {},
   "outputs": [
    {
     "data": {
      "text/plain": [
       "'getter method allows you to access an attribute in a given class '"
      ]
     },
     "execution_count": 31,
     "metadata": {},
     "output_type": "execute_result"
    }
   ],
   "source": [
    "\"getter method allows you to access an attribute in a given class \""
   ]
  },
  {
   "cell_type": "code",
   "execution_count": 32,
   "id": "c68261ed-4407-466f-a104-accb57e0ddc7",
   "metadata": {},
   "outputs": [
    {
     "data": {
      "text/plain": [
       "'setter method allows you to set an attribute in the given class  '"
      ]
     },
     "execution_count": 32,
     "metadata": {},
     "output_type": "execute_result"
    }
   ],
   "source": [
    "\"setter method allows you to set an attribute in the given class  \""
   ]
  },
  {
   "cell_type": "code",
   "execution_count": 47,
   "id": "eeadf012-54fd-4700-8865-f8bfeafd90d1",
   "metadata": {},
   "outputs": [],
   "source": [
    "class get_set:\n",
    "    \n",
    "    def set_value(self,a,b):\n",
    "        self.c=a+b\n",
    "        \n",
    "    def get_value(self):\n",
    "        return self.c\n",
    "        "
   ]
  },
  {
   "cell_type": "code",
   "execution_count": 48,
   "id": "556bd6aa-62a1-49ef-bf72-7d1f90090f84",
   "metadata": {},
   "outputs": [],
   "source": [
    "getset_obj=get_set()"
   ]
  },
  {
   "cell_type": "code",
   "execution_count": 50,
   "id": "a250c38a-6956-4dd9-b547-432e8034d7eb",
   "metadata": {},
   "outputs": [],
   "source": [
    "getset_obj.set_value(5,6)"
   ]
  },
  {
   "cell_type": "code",
   "execution_count": 51,
   "id": "7958cd14-55b4-4952-9e6c-fa5cd89af74b",
   "metadata": {},
   "outputs": [
    {
     "data": {
      "text/plain": [
       "11"
      ]
     },
     "execution_count": 51,
     "metadata": {},
     "output_type": "execute_result"
    }
   ],
   "source": [
    "getset_obj.get_value()"
   ]
  },
  {
   "cell_type": "code",
   "execution_count": null,
   "id": "148b2bb1-9613-4d56-8278-8b95f1d914e1",
   "metadata": {},
   "outputs": [],
   "source": [
    "#What is method overriding in python? Write a python code to demonstrate method overriding."
   ]
  },
  {
   "cell_type": "code",
   "execution_count": 60,
   "id": "bf1e5344-e7f0-4f13-bc79-0fe08400cd4c",
   "metadata": {},
   "outputs": [
    {
     "data": {
      "text/plain": [
       "'When a method in a subclass has the same name, same parameters or argument and same return type as a method in its super-class, then the method in the subclass is said to override the method in the super-class.'"
      ]
     },
     "execution_count": 60,
     "metadata": {},
     "output_type": "execute_result"
    }
   ],
   "source": [
    "\"When a method in a subclass has the same name, same parameters or argument and same return type as a method in its super-class, then the method in the subclass is said to override the method in the super-class.\""
   ]
  },
  {
   "cell_type": "code",
   "execution_count": 53,
   "id": "544f2e5c-2eaa-49b5-8e57-aa4cf5e13b24",
   "metadata": {},
   "outputs": [],
   "source": [
    "class overriding_partent:\n",
    "    \n",
    "    def overriding_P_func(self):\n",
    "        print(\"This is my parrent class function\")"
   ]
  },
  {
   "cell_type": "code",
   "execution_count": 54,
   "id": "ff6ee31e-42a9-44eb-9229-b5aabfe6928a",
   "metadata": {},
   "outputs": [],
   "source": [
    "class overriding_child(overriding_partent):\n",
    "    \n",
    "    def overriding_C_func(self):\n",
    "        print(\"This is my child class function\")"
   ]
  },
  {
   "cell_type": "code",
   "execution_count": 55,
   "id": "0e80cec1-8532-40ea-8cf9-b3e892af2d96",
   "metadata": {},
   "outputs": [],
   "source": [
    "overriding_partent_obj=overriding_partent()"
   ]
  },
  {
   "cell_type": "code",
   "execution_count": 56,
   "id": "0158d5e5-b5a1-450c-b1f7-98eb22a86dc1",
   "metadata": {},
   "outputs": [],
   "source": [
    "overriding_child_obj=overriding_child()"
   ]
  },
  {
   "cell_type": "code",
   "execution_count": 57,
   "id": "48820275-17b1-4c8d-b1fa-a8f169ef794d",
   "metadata": {},
   "outputs": [
    {
     "name": "stdout",
     "output_type": "stream",
     "text": [
      "This is my parrent class function\n"
     ]
    }
   ],
   "source": [
    "overriding_partent_obj.overriding_P_func()"
   ]
  },
  {
   "cell_type": "code",
   "execution_count": 58,
   "id": "344f7574-fa5c-4f5e-96c0-1eb1a77a34d4",
   "metadata": {},
   "outputs": [
    {
     "name": "stdout",
     "output_type": "stream",
     "text": [
      "This is my child class function\n"
     ]
    }
   ],
   "source": [
    "overriding_child_obj.overriding_C_func()"
   ]
  },
  {
   "cell_type": "code",
   "execution_count": null,
   "id": "c985c419-54d5-4cb1-8259-b1e21d07e4c4",
   "metadata": {},
   "outputs": [],
   "source": []
  }
 ],
 "metadata": {
  "kernelspec": {
   "display_name": "Python 3 (ipykernel)",
   "language": "python",
   "name": "python3"
  },
  "language_info": {
   "codemirror_mode": {
    "name": "ipython",
    "version": 3
   },
   "file_extension": ".py",
   "mimetype": "text/x-python",
   "name": "python",
   "nbconvert_exporter": "python",
   "pygments_lexer": "ipython3",
   "version": "3.10.8"
  }
 },
 "nbformat": 4,
 "nbformat_minor": 5
}
