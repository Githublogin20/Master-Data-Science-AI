{
 "cells": [
  {
   "cell_type": "code",
   "execution_count": null,
   "id": "7eba3b9e-6ab1-4f2c-910d-7728ce0be3df",
   "metadata": {},
   "outputs": [],
   "source": [
    "#. Explain Class and Object with respect to Object-Oriented Programming. Give a suitable example."
   ]
  },
  {
   "cell_type": "code",
   "execution_count": 4,
   "id": "51ffa129-66cc-40e0-98ab-bcd9cd8da9a3",
   "metadata": {},
   "outputs": [
    {
     "data": {
      "text/plain": [
       "'Class is a blueprint or skeleton which defines some properties and behaviors. An object is an instance of a class which has those properties and behaviours attached'"
      ]
     },
     "execution_count": 4,
     "metadata": {},
     "output_type": "execute_result"
    }
   ],
   "source": [
    "\"Class is a blueprint or skeleton which defines some properties and behaviors. An object is an instance of a class which has those properties and behaviours attached\""
   ]
  },
  {
   "cell_type": "code",
   "execution_count": 5,
   "id": "9b70fc7a-128e-4a57-b525-9f17d731f213",
   "metadata": {},
   "outputs": [],
   "source": [
    "class sample:\n",
    "    \n",
    "    def sample_fun(self):\n",
    "        print(\"this is the function of my sample class \")"
   ]
  },
  {
   "cell_type": "code",
   "execution_count": 6,
   "id": "5932fd7e-e2c2-4d2a-a3c8-874a97071944",
   "metadata": {},
   "outputs": [],
   "source": [
    "sample_obj=sample()"
   ]
  },
  {
   "cell_type": "code",
   "execution_count": 7,
   "id": "a2aa874f-1025-4aed-b7e9-782d7cee1ae4",
   "metadata": {},
   "outputs": [
    {
     "name": "stdout",
     "output_type": "stream",
     "text": [
      "this is the function of my sample class \n"
     ]
    }
   ],
   "source": [
    "sample_obj.sample_fun()"
   ]
  },
  {
   "cell_type": "code",
   "execution_count": 8,
   "id": "092c953e-5c61-45fd-920c-31ed75b3d50f",
   "metadata": {},
   "outputs": [],
   "source": [
    "#Name the four pillars of OOPs."
   ]
  },
  {
   "cell_type": "code",
   "execution_count": 9,
   "id": "035b064e-59a4-42b5-ba8f-81247e663f65",
   "metadata": {},
   "outputs": [
    {
     "data": {
      "text/plain": [
       "' 1.Inhertance\\n2. encapsulation\\n3. abstruction \\n4. overrriding'"
      ]
     },
     "execution_count": 9,
     "metadata": {},
     "output_type": "execute_result"
    }
   ],
   "source": [
    "\"\"\" 1.Inhertance\n",
    "2. encapsulation\n",
    "3. abstruction \n",
    "4. overrriding\"\"\""
   ]
  },
  {
   "cell_type": "code",
   "execution_count": null,
   "id": "6d87f733-ec7a-4367-a86b-0902a119d7cf",
   "metadata": {},
   "outputs": [],
   "source": [
    "#Explain why the __init__() function is used. Give a suitable example."
   ]
  },
  {
   "cell_type": "code",
   "execution_count": 11,
   "id": "3b7c1fda-91e8-4696-894c-b35dfc9f20cd",
   "metadata": {},
   "outputs": [
    {
     "data": {
      "text/plain": [
       "\"__init__ method lets the class initialize the object's attributes and serves no other purpose .  \""
      ]
     },
     "execution_count": 11,
     "metadata": {},
     "output_type": "execute_result"
    }
   ],
   "source": [
    "\"__init__ method lets the class initialize the object's attributes and serves no other purpose .  \""
   ]
  },
  {
   "cell_type": "code",
   "execution_count": 13,
   "id": "6efcd549-d631-4030-8e5a-197ebaa1c291",
   "metadata": {},
   "outputs": [],
   "source": [
    "class init:\n",
    "    \n",
    "    def __init__(self,atribute1, attribute2,attribute3):\n",
    "        self.atribute1=atribute1\n",
    "        self.attribute2=attribute2\n",
    "        self.attribute3=attribute3"
   ]
  },
  {
   "cell_type": "code",
   "execution_count": 14,
   "id": "1a790842-53e1-4fd5-80e8-a6da5066ac37",
   "metadata": {},
   "outputs": [],
   "source": [
    "# Why self is used in OOPs?"
   ]
  },
  {
   "cell_type": "code",
   "execution_count": 15,
   "id": "ffe12f93-fa58-44d8-b5a6-dc4d964c3770",
   "metadata": {},
   "outputs": [
    {
     "data": {
      "text/plain": [
       "'self in opps is used to refer the method is assigned to that perticular class .By using the “self” we can access the attributes and methods of the class in python'"
      ]
     },
     "execution_count": 15,
     "metadata": {},
     "output_type": "execute_result"
    }
   ],
   "source": [
    "\"self in opps is used to refer the method is assigned to that perticular class .By using the “self” we can access the attributes and methods of the class in python\""
   ]
  },
  {
   "cell_type": "code",
   "execution_count": 16,
   "id": "29f6ff03-48b7-4b14-8f82-ad66f8c6289f",
   "metadata": {},
   "outputs": [],
   "source": [
    "class self:\n",
    "    \n",
    "    def self_fun(self):\n",
    "        print(\"this is my self class function \")"
   ]
  },
  {
   "cell_type": "code",
   "execution_count": 17,
   "id": "5955e8ad-9477-4055-9cba-6e86b3f61a47",
   "metadata": {},
   "outputs": [],
   "source": [
    "self_obj=self()"
   ]
  },
  {
   "cell_type": "code",
   "execution_count": 18,
   "id": "15305d6b-7048-4ccb-a2bf-a585cb2f4cb9",
   "metadata": {},
   "outputs": [
    {
     "name": "stdout",
     "output_type": "stream",
     "text": [
      "this is my self class function \n"
     ]
    }
   ],
   "source": [
    "self_obj.self_fun()"
   ]
  },
  {
   "cell_type": "code",
   "execution_count": null,
   "id": "7da7c625-a994-49d3-8fe7-95bd0c3c1942",
   "metadata": {},
   "outputs": [],
   "source": [
    "#What is inheritance? Give an example for each type of inheritance"
   ]
  },
  {
   "cell_type": "code",
   "execution_count": 21,
   "id": "25c091a6-71b0-4f8a-8816-a2c176a25c27",
   "metadata": {},
   "outputs": [
    {
     "data": {
      "text/plain": [
       "'inheritance is the pillor of oops .this is basically used to inherit the properties/attributes of the parent class. we have basically two type of inheritance .\\n1.multi level Inheritance \\n2. multiple inheritance '"
      ]
     },
     "execution_count": 21,
     "metadata": {},
     "output_type": "execute_result"
    }
   ],
   "source": [
    "\"\"\"inheritance is the pillor of oops .this is basically used to inherit the properties/attributes of the parent class. we have basically two type of inheritance .\n",
    "1.multi level Inheritance \n",
    "2. multiple inheritance \"\"\""
   ]
  },
  {
   "cell_type": "code",
   "execution_count": 69,
   "id": "1ebc91e7-7f3d-42fb-a53f-49bb28342af9",
   "metadata": {},
   "outputs": [],
   "source": [
    "#multi level Inheritance \n",
    "\n",
    "class inh_A:\n",
    "    \n",
    "    def inh_A_fun(self):\n",
    "        print(\"this is my function which represent class inh_A\")"
   ]
  },
  {
   "cell_type": "code",
   "execution_count": 70,
   "id": "433db6da-5854-4b9d-8cf4-161b8a265247",
   "metadata": {},
   "outputs": [],
   "source": [
    "class inh_B(inh_A):\n",
    "    \n",
    "    def inh_B_fun(self):\n",
    "        print(\"this is my function which represent class inh_B\")"
   ]
  },
  {
   "cell_type": "code",
   "execution_count": 71,
   "id": "7af1c0a5-8c1b-423b-a242-a669412e872b",
   "metadata": {},
   "outputs": [],
   "source": [
    "class inh_C(inh_B):\n",
    "    pass"
   ]
  },
  {
   "cell_type": "code",
   "execution_count": 72,
   "id": "1ee1985c-8a11-4cf6-9462-10338a8d4b0f",
   "metadata": {},
   "outputs": [],
   "source": [
    "inh_c_obj=inh_C()"
   ]
  },
  {
   "cell_type": "code",
   "execution_count": 75,
   "id": "99e9d3a3-56ee-4136-ab1a-b66215bddf99",
   "metadata": {},
   "outputs": [
    {
     "name": "stdout",
     "output_type": "stream",
     "text": [
      "this is my function which represent class inh_B\n"
     ]
    }
   ],
   "source": [
    "inh_c_obj.inh_B_fun()"
   ]
  },
  {
   "cell_type": "code",
   "execution_count": 76,
   "id": "4ecab491-ae54-48b3-a52d-ca52de598805",
   "metadata": {},
   "outputs": [
    {
     "name": "stdout",
     "output_type": "stream",
     "text": [
      "this is my function which represent class inh_A\n"
     ]
    }
   ],
   "source": [
    "inh_c_obj.inh_A_fun()"
   ]
  },
  {
   "cell_type": "code",
   "execution_count": null,
   "id": "0705fe3d-4975-438d-95c0-ebfb774896f9",
   "metadata": {},
   "outputs": [],
   "source": [
    "#multiple Inheritance "
   ]
  },
  {
   "cell_type": "code",
   "execution_count": 41,
   "id": "e2ee85d8-0c6a-4988-ae60-a581009c4674",
   "metadata": {},
   "outputs": [],
   "source": [
    "class multP_A:\n",
    "    \n",
    "    def multP_func_A(self):\n",
    "        print (\"this is my function which represent class multP_A\")"
   ]
  },
  {
   "cell_type": "code",
   "execution_count": 48,
   "id": "edb59e9e-f5a6-40c9-b9cf-9a4f9850a295",
   "metadata": {},
   "outputs": [],
   "source": [
    "class multP_B:\n",
    "    \n",
    "    def multP_fun_B(self):\n",
    "        print(\"this is my function which represent class multP_B\")"
   ]
  },
  {
   "cell_type": "code",
   "execution_count": 49,
   "id": "37983210-92d5-4db8-bb69-bd32157158cf",
   "metadata": {},
   "outputs": [],
   "source": [
    "class multP_C(multP_A,multP_B):\n",
    "    pass"
   ]
  },
  {
   "cell_type": "code",
   "execution_count": 50,
   "id": "38420986-737b-4173-9293-fb826899e0ce",
   "metadata": {},
   "outputs": [],
   "source": [
    "multP_C_obj=multP_C()"
   ]
  },
  {
   "cell_type": "code",
   "execution_count": 51,
   "id": "4376b59e-f791-421e-aec0-b6ce212f7ffc",
   "metadata": {},
   "outputs": [
    {
     "name": "stdout",
     "output_type": "stream",
     "text": [
      "this is my function which represent class multP_A\n"
     ]
    }
   ],
   "source": [
    "multP_C_obj.multP_func_A()"
   ]
  },
  {
   "cell_type": "code",
   "execution_count": 52,
   "id": "b4d89f3b-a575-440f-bd6f-4bf40421b511",
   "metadata": {},
   "outputs": [
    {
     "name": "stdout",
     "output_type": "stream",
     "text": [
      "this is my function which represent class multP_B\n"
     ]
    }
   ],
   "source": [
    "multP_C_obj.multP_fun_B()"
   ]
  },
  {
   "cell_type": "code",
   "execution_count": null,
   "id": "deeb0995-250f-471b-8654-8dbc634a1cc8",
   "metadata": {},
   "outputs": [],
   "source": []
  }
 ],
 "metadata": {
  "kernelspec": {
   "display_name": "Python 3 (ipykernel)",
   "language": "python",
   "name": "python3"
  },
  "language_info": {
   "codemirror_mode": {
    "name": "ipython",
    "version": 3
   },
   "file_extension": ".py",
   "mimetype": "text/x-python",
   "name": "python",
   "nbconvert_exporter": "python",
   "pygments_lexer": "ipython3",
   "version": "3.10.8"
  }
 },
 "nbformat": 4,
 "nbformat_minor": 5
}
